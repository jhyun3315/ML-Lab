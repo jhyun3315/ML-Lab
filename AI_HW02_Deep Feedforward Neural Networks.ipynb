{
 "cells": [
  {
   "cell_type": "markdown",
   "metadata": {},
   "source": [
    "# AI_HW02. Deep Feedforward Neural Networks\n",
    "## 20160418 이지현"
   ]
  },
  {
   "cell_type": "code",
   "execution_count": 1,
   "metadata": {},
   "outputs": [],
   "source": [
    "import numpy as np\n",
    "import pandas as pd\n",
    "import matplotlib.pyplot as plt\n",
    "%matplotlib inline\n",
    "import sys\n",
    "from os.path import join\n",
    "import warnings\n",
    "warnings.filterwarnings(\"ignore\")"
   ]
  },
  {
   "cell_type": "code",
   "execution_count": 2,
   "metadata": {},
   "outputs": [
    {
     "data": {
      "text/html": [
       "<div>\n",
       "<style scoped>\n",
       "    .dataframe tbody tr th:only-of-type {\n",
       "        vertical-align: middle;\n",
       "    }\n",
       "\n",
       "    .dataframe tbody tr th {\n",
       "        vertical-align: top;\n",
       "    }\n",
       "\n",
       "    .dataframe thead th {\n",
       "        text-align: right;\n",
       "    }\n",
       "</style>\n",
       "<table border=\"1\" class=\"dataframe\">\n",
       "  <thead>\n",
       "    <tr style=\"text-align: right;\">\n",
       "      <th></th>\n",
       "      <th>Sex</th>\n",
       "      <th>Length</th>\n",
       "      <th>Diameter</th>\n",
       "      <th>Height</th>\n",
       "      <th>Whole weight</th>\n",
       "      <th>Shucked weight</th>\n",
       "      <th>Viscera weight</th>\n",
       "      <th>Shell weight</th>\n",
       "      <th>Rings</th>\n",
       "    </tr>\n",
       "  </thead>\n",
       "  <tbody>\n",
       "    <tr>\n",
       "      <th>0</th>\n",
       "      <td>M</td>\n",
       "      <td>0.455</td>\n",
       "      <td>0.365</td>\n",
       "      <td>0.095</td>\n",
       "      <td>0.5140</td>\n",
       "      <td>0.2245</td>\n",
       "      <td>0.1010</td>\n",
       "      <td>0.150</td>\n",
       "      <td>15</td>\n",
       "    </tr>\n",
       "    <tr>\n",
       "      <th>1</th>\n",
       "      <td>M</td>\n",
       "      <td>0.350</td>\n",
       "      <td>0.265</td>\n",
       "      <td>0.090</td>\n",
       "      <td>0.2255</td>\n",
       "      <td>0.0995</td>\n",
       "      <td>0.0485</td>\n",
       "      <td>0.070</td>\n",
       "      <td>7</td>\n",
       "    </tr>\n",
       "    <tr>\n",
       "      <th>2</th>\n",
       "      <td>F</td>\n",
       "      <td>0.530</td>\n",
       "      <td>0.420</td>\n",
       "      <td>0.135</td>\n",
       "      <td>0.6770</td>\n",
       "      <td>0.2565</td>\n",
       "      <td>0.1415</td>\n",
       "      <td>0.210</td>\n",
       "      <td>9</td>\n",
       "    </tr>\n",
       "    <tr>\n",
       "      <th>3</th>\n",
       "      <td>M</td>\n",
       "      <td>0.440</td>\n",
       "      <td>0.365</td>\n",
       "      <td>0.125</td>\n",
       "      <td>0.5160</td>\n",
       "      <td>0.2155</td>\n",
       "      <td>0.1140</td>\n",
       "      <td>0.155</td>\n",
       "      <td>10</td>\n",
       "    </tr>\n",
       "    <tr>\n",
       "      <th>4</th>\n",
       "      <td>I</td>\n",
       "      <td>0.330</td>\n",
       "      <td>0.255</td>\n",
       "      <td>0.080</td>\n",
       "      <td>0.2050</td>\n",
       "      <td>0.0895</td>\n",
       "      <td>0.0395</td>\n",
       "      <td>0.055</td>\n",
       "      <td>7</td>\n",
       "    </tr>\n",
       "  </tbody>\n",
       "</table>\n",
       "</div>"
      ],
      "text/plain": [
       "  Sex  Length  Diameter  Height  Whole weight  Shucked weight  Viscera weight  \\\n",
       "0   M   0.455     0.365   0.095        0.5140          0.2245          0.1010   \n",
       "1   M   0.350     0.265   0.090        0.2255          0.0995          0.0485   \n",
       "2   F   0.530     0.420   0.135        0.6770          0.2565          0.1415   \n",
       "3   M   0.440     0.365   0.125        0.5160          0.2155          0.1140   \n",
       "4   I   0.330     0.255   0.080        0.2050          0.0895          0.0395   \n",
       "\n",
       "   Shell weight  Rings  \n",
       "0         0.150     15  \n",
       "1         0.070      7  \n",
       "2         0.210      9  \n",
       "3         0.155     10  \n",
       "4         0.055      7  "
      ]
     },
     "execution_count": 2,
     "metadata": {},
     "output_type": "execute_result"
    }
   ],
   "source": [
    "datax = pd.read_csv('./data/abalone.csv', names=['Sex','Length','Diameter','Height','Whole weight','Shucked weight','Viscera weight','Shell weight','Rings'])\n",
    "datax.head()"
   ]
  },
  {
   "cell_type": "code",
   "execution_count": 3,
   "metadata": {},
   "outputs": [
    {
     "name": "stdout",
     "output_type": "stream",
     "text": [
      "(4177, 9)\n"
     ]
    }
   ],
   "source": [
    "print(datax.shape)"
   ]
  },
  {
   "cell_type": "code",
   "execution_count": 4,
   "metadata": {},
   "outputs": [
    {
     "data": {
      "text/html": [
       "<div>\n",
       "<style scoped>\n",
       "    .dataframe tbody tr th:only-of-type {\n",
       "        vertical-align: middle;\n",
       "    }\n",
       "\n",
       "    .dataframe tbody tr th {\n",
       "        vertical-align: top;\n",
       "    }\n",
       "\n",
       "    .dataframe thead th {\n",
       "        text-align: right;\n",
       "    }\n",
       "</style>\n",
       "<table border=\"1\" class=\"dataframe\">\n",
       "  <thead>\n",
       "    <tr style=\"text-align: right;\">\n",
       "      <th></th>\n",
       "      <th>Sex</th>\n",
       "    </tr>\n",
       "  </thead>\n",
       "  <tbody>\n",
       "    <tr>\n",
       "      <th>0</th>\n",
       "      <td>M</td>\n",
       "    </tr>\n",
       "    <tr>\n",
       "      <th>1</th>\n",
       "      <td>M</td>\n",
       "    </tr>\n",
       "    <tr>\n",
       "      <th>2</th>\n",
       "      <td>F</td>\n",
       "    </tr>\n",
       "    <tr>\n",
       "      <th>3</th>\n",
       "      <td>M</td>\n",
       "    </tr>\n",
       "    <tr>\n",
       "      <th>4</th>\n",
       "      <td>I</td>\n",
       "    </tr>\n",
       "  </tbody>\n",
       "</table>\n",
       "</div>"
      ],
      "text/plain": [
       "  Sex\n",
       "0   M\n",
       "1   M\n",
       "2   F\n",
       "3   M\n",
       "4   I"
      ]
     },
     "execution_count": 4,
     "metadata": {},
     "output_type": "execute_result"
    }
   ],
   "source": [
    "datay = pd.DataFrame(datax['Sex'])\n",
    "datay.head()"
   ]
  },
  {
   "cell_type": "code",
   "execution_count": 5,
   "metadata": {},
   "outputs": [
    {
     "data": {
      "text/html": [
       "<div>\n",
       "<style scoped>\n",
       "    .dataframe tbody tr th:only-of-type {\n",
       "        vertical-align: middle;\n",
       "    }\n",
       "\n",
       "    .dataframe tbody tr th {\n",
       "        vertical-align: top;\n",
       "    }\n",
       "\n",
       "    .dataframe thead th {\n",
       "        text-align: right;\n",
       "    }\n",
       "</style>\n",
       "<table border=\"1\" class=\"dataframe\">\n",
       "  <thead>\n",
       "    <tr style=\"text-align: right;\">\n",
       "      <th></th>\n",
       "      <th>Length</th>\n",
       "      <th>Diameter</th>\n",
       "      <th>Height</th>\n",
       "      <th>Whole weight</th>\n",
       "      <th>Shucked weight</th>\n",
       "      <th>Viscera weight</th>\n",
       "      <th>Shell weight</th>\n",
       "      <th>Rings</th>\n",
       "    </tr>\n",
       "  </thead>\n",
       "  <tbody>\n",
       "    <tr>\n",
       "      <th>0</th>\n",
       "      <td>0.455</td>\n",
       "      <td>0.365</td>\n",
       "      <td>0.095</td>\n",
       "      <td>0.5140</td>\n",
       "      <td>0.2245</td>\n",
       "      <td>0.1010</td>\n",
       "      <td>0.150</td>\n",
       "      <td>15</td>\n",
       "    </tr>\n",
       "    <tr>\n",
       "      <th>1</th>\n",
       "      <td>0.350</td>\n",
       "      <td>0.265</td>\n",
       "      <td>0.090</td>\n",
       "      <td>0.2255</td>\n",
       "      <td>0.0995</td>\n",
       "      <td>0.0485</td>\n",
       "      <td>0.070</td>\n",
       "      <td>7</td>\n",
       "    </tr>\n",
       "    <tr>\n",
       "      <th>2</th>\n",
       "      <td>0.530</td>\n",
       "      <td>0.420</td>\n",
       "      <td>0.135</td>\n",
       "      <td>0.6770</td>\n",
       "      <td>0.2565</td>\n",
       "      <td>0.1415</td>\n",
       "      <td>0.210</td>\n",
       "      <td>9</td>\n",
       "    </tr>\n",
       "    <tr>\n",
       "      <th>3</th>\n",
       "      <td>0.440</td>\n",
       "      <td>0.365</td>\n",
       "      <td>0.125</td>\n",
       "      <td>0.5160</td>\n",
       "      <td>0.2155</td>\n",
       "      <td>0.1140</td>\n",
       "      <td>0.155</td>\n",
       "      <td>10</td>\n",
       "    </tr>\n",
       "    <tr>\n",
       "      <th>4</th>\n",
       "      <td>0.330</td>\n",
       "      <td>0.255</td>\n",
       "      <td>0.080</td>\n",
       "      <td>0.2050</td>\n",
       "      <td>0.0895</td>\n",
       "      <td>0.0395</td>\n",
       "      <td>0.055</td>\n",
       "      <td>7</td>\n",
       "    </tr>\n",
       "  </tbody>\n",
       "</table>\n",
       "</div>"
      ],
      "text/plain": [
       "   Length  Diameter  Height  Whole weight  Shucked weight  Viscera weight  \\\n",
       "0   0.455     0.365   0.095        0.5140          0.2245          0.1010   \n",
       "1   0.350     0.265   0.090        0.2255          0.0995          0.0485   \n",
       "2   0.530     0.420   0.135        0.6770          0.2565          0.1415   \n",
       "3   0.440     0.365   0.125        0.5160          0.2155          0.1140   \n",
       "4   0.330     0.255   0.080        0.2050          0.0895          0.0395   \n",
       "\n",
       "   Shell weight  Rings  \n",
       "0         0.150     15  \n",
       "1         0.070      7  \n",
       "2         0.210      9  \n",
       "3         0.155     10  \n",
       "4         0.055      7  "
      ]
     },
     "execution_count": 5,
     "metadata": {},
     "output_type": "execute_result"
    }
   ],
   "source": [
    "del datax['Sex']\n",
    "datax.head()"
   ]
  },
  {
   "cell_type": "markdown",
   "metadata": {},
   "source": [
    "## Requirement 2\n",
    "## 변수 정규화를 실행한다. (sklearn.preprocessing.MinMaxScaler 사용)"
   ]
  },
  {
   "cell_type": "code",
   "execution_count": 6,
   "metadata": {},
   "outputs": [
    {
     "data": {
      "text/html": [
       "<div>\n",
       "<style scoped>\n",
       "    .dataframe tbody tr th:only-of-type {\n",
       "        vertical-align: middle;\n",
       "    }\n",
       "\n",
       "    .dataframe tbody tr th {\n",
       "        vertical-align: top;\n",
       "    }\n",
       "\n",
       "    .dataframe thead th {\n",
       "        text-align: right;\n",
       "    }\n",
       "</style>\n",
       "<table border=\"1\" class=\"dataframe\">\n",
       "  <thead>\n",
       "    <tr style=\"text-align: right;\">\n",
       "      <th></th>\n",
       "      <th>Length</th>\n",
       "      <th>Diameter</th>\n",
       "      <th>Height</th>\n",
       "      <th>Whole weight</th>\n",
       "      <th>Shucked weight</th>\n",
       "      <th>Viscera weight</th>\n",
       "      <th>Shell weight</th>\n",
       "      <th>Rings</th>\n",
       "    </tr>\n",
       "  </thead>\n",
       "  <tbody>\n",
       "    <tr>\n",
       "      <th>0</th>\n",
       "      <td>0.513514</td>\n",
       "      <td>0.521008</td>\n",
       "      <td>0.084071</td>\n",
       "      <td>0.181335</td>\n",
       "      <td>0.150303</td>\n",
       "      <td>0.132324</td>\n",
       "      <td>0.147982</td>\n",
       "      <td>0.500000</td>\n",
       "    </tr>\n",
       "    <tr>\n",
       "      <th>1</th>\n",
       "      <td>0.371622</td>\n",
       "      <td>0.352941</td>\n",
       "      <td>0.079646</td>\n",
       "      <td>0.079157</td>\n",
       "      <td>0.066241</td>\n",
       "      <td>0.063199</td>\n",
       "      <td>0.068261</td>\n",
       "      <td>0.214286</td>\n",
       "    </tr>\n",
       "    <tr>\n",
       "      <th>2</th>\n",
       "      <td>0.614865</td>\n",
       "      <td>0.613445</td>\n",
       "      <td>0.119469</td>\n",
       "      <td>0.239065</td>\n",
       "      <td>0.171822</td>\n",
       "      <td>0.185648</td>\n",
       "      <td>0.207773</td>\n",
       "      <td>0.285714</td>\n",
       "    </tr>\n",
       "    <tr>\n",
       "      <th>3</th>\n",
       "      <td>0.493243</td>\n",
       "      <td>0.521008</td>\n",
       "      <td>0.110619</td>\n",
       "      <td>0.182044</td>\n",
       "      <td>0.144250</td>\n",
       "      <td>0.149440</td>\n",
       "      <td>0.152965</td>\n",
       "      <td>0.321429</td>\n",
       "    </tr>\n",
       "    <tr>\n",
       "      <th>4</th>\n",
       "      <td>0.344595</td>\n",
       "      <td>0.336134</td>\n",
       "      <td>0.070796</td>\n",
       "      <td>0.071897</td>\n",
       "      <td>0.059516</td>\n",
       "      <td>0.051350</td>\n",
       "      <td>0.053313</td>\n",
       "      <td>0.214286</td>\n",
       "    </tr>\n",
       "  </tbody>\n",
       "</table>\n",
       "</div>"
      ],
      "text/plain": [
       "     Length  Diameter    Height  Whole weight  Shucked weight  Viscera weight  \\\n",
       "0  0.513514  0.521008  0.084071      0.181335        0.150303        0.132324   \n",
       "1  0.371622  0.352941  0.079646      0.079157        0.066241        0.063199   \n",
       "2  0.614865  0.613445  0.119469      0.239065        0.171822        0.185648   \n",
       "3  0.493243  0.521008  0.110619      0.182044        0.144250        0.149440   \n",
       "4  0.344595  0.336134  0.070796      0.071897        0.059516        0.051350   \n",
       "\n",
       "   Shell weight     Rings  \n",
       "0      0.147982  0.500000  \n",
       "1      0.068261  0.214286  \n",
       "2      0.207773  0.285714  \n",
       "3      0.152965  0.321429  \n",
       "4      0.053313  0.214286  "
      ]
     },
     "execution_count": 6,
     "metadata": {},
     "output_type": "execute_result"
    }
   ],
   "source": [
    "from sklearn.preprocessing import MinMaxScaler\n",
    "min_max_scaler = MinMaxScaler()\n",
    "fitted = min_max_scaler.fit(datax)\n",
    "\n",
    "df = datax.copy()\n",
    "\n",
    "datax = min_max_scaler.transform(datax)\n",
    "datax = pd.DataFrame(datax, columns=df.columns, index=list(df.index.values))\n",
    "datax.head()"
   ]
  },
  {
   "cell_type": "markdown",
   "metadata": {},
   "source": [
    "## Requirement 1\n",
    "## Data를 train:test로 분할한다."
   ]
  },
  {
   "cell_type": "code",
   "execution_count": 7,
   "metadata": {},
   "outputs": [],
   "source": [
    "from sklearn.model_selection import train_test_split\n",
    "trnx, tstx, trny, tsty = train_test_split(datax, datay, test_size=0.3, random_state=111)"
   ]
  },
  {
   "cell_type": "markdown",
   "metadata": {},
   "source": [
    "## Requirement 2\n",
    "## 2. Sklearn을 이용해서 Classifier A를 만든다"
   ]
  },
  {
   "cell_type": "code",
   "execution_count": 8,
   "metadata": {},
   "outputs": [],
   "source": [
    "from sklearn.neural_network import MLPClassifier\n",
    "\n",
    "clf = MLPClassifier(hidden_layer_sizes=(800,))\n",
    "clf.fit(trnx, trny)\n",
    "tsty_hat = clf.predict(tstx)"
   ]
  },
  {
   "cell_type": "code",
   "execution_count": 9,
   "metadata": {},
   "outputs": [
    {
     "name": "stdout",
     "output_type": "stream",
     "text": [
      "MLPClassifier(activation='relu', alpha=0.0001, batch_size='auto', beta_1=0.9,\n",
      "              beta_2=0.999, early_stopping=False, epsilon=1e-08,\n",
      "              hidden_layer_sizes=(800,), learning_rate='constant',\n",
      "              learning_rate_init=0.001, max_iter=200, momentum=0.9,\n",
      "              n_iter_no_change=10, nesterovs_momentum=True, power_t=0.5,\n",
      "              random_state=None, shuffle=True, solver='adam', tol=0.0001,\n",
      "              validation_fraction=0.1, verbose=False, warm_start=False)\n",
      "[1.0645660645231048, 0.9992975466298867, 0.9458143274116256, 0.9123318105581469, 0.8984586741689821, 0.8924219730321208, 0.8900876541451586, 0.8857835735013092, 0.8836998894837204, 0.8823334875795745, 0.8830346264728769, 0.8790190372696248, 0.8781944909176989, 0.8796428660404761, 0.8751617950978402, 0.8746203407633758, 0.8747267873553679, 0.8735741865982614, 0.8735372721947722, 0.8702729301295243, 0.8714525117727925, 0.8706019080271559, 0.870461198176522, 0.8678264540045837, 0.8671153394361087, 0.8688526534115113, 0.8684537495479671, 0.8651092719795813, 0.8655232392379397, 0.8661175144866627, 0.8655575852728862, 0.8631350694464593, 0.8627816450092368, 0.8644919736488553, 0.8622457673099744, 0.8608486797814997, 0.8603027316659081, 0.8605545547053596, 0.8594293141251758, 0.8605998805570931, 0.8595662613277897, 0.8581962201355483, 0.8603617231932148, 0.8562851764551304, 0.8571615095257209, 0.8557641392544975, 0.857960293684343, 0.8563851714977929, 0.8567843946608715, 0.8567374360970597, 0.8534841218410338, 0.8533170993062437, 0.853566501119686, 0.85275649196535, 0.8522638968589931, 0.8522973451305013, 0.8543814692976848, 0.8530120776798086, 0.852714482047751, 0.8521198645022042, 0.8507688663682273, 0.8517764517330061, 0.8503730286399847, 0.8489886957220921, 0.8499515091806141, 0.84856740604497, 0.8485992198358657, 0.8487811401201074, 0.8467479441042083, 0.8474257612100468, 0.8509962383392247, 0.8464691277129216, 0.848648299952191, 0.849544127692831, 0.8458555993350182, 0.8465977627486249, 0.8453695985573515, 0.846829218713215, 0.8448536785226519, 0.8454317290340068, 0.8450427203729963, 0.8457130511325409, 0.8480826348940377, 0.8423342352072873, 0.8428964329485191, 0.8443973503216021, 0.8428822632049018, 0.842733489386252, 0.8419462004997877, 0.8441435739194241, 0.8422895932272902, 0.8420624494662532, 0.8425169628621915, 0.8412970821859875, 0.8422932726076475, 0.8400746266646365, 0.8409060028439784, 0.8415226622542825, 0.8460743094639548, 0.8413395142009, 0.8401543676859159, 0.8413045061680546, 0.8416560200071886, 0.8401838309499832, 0.8383635991887692, 0.838151859581233, 0.8415963626077819, 0.8374382630603153, 0.8394443986638984, 0.8386902885728467, 0.8423015657127878, 0.8386007062057699, 0.84461866776272, 0.8363061770879044, 0.841869590190441, 0.8370565185576101, 0.8379830355863974, 0.8385925530074555, 0.8375589335484763, 0.8394378448693911, 0.8369902439643965, 0.8370765209270085, 0.8386081116660167, 0.835728838876489, 0.835530912113389, 0.8391731799459095, 0.8395534389031144, 0.8351255680641795, 0.8353429291942427, 0.8349751270992519, 0.835828395082188, 0.8337754043856669, 0.8343820209853543, 0.8356812855105419, 0.8343782668257207, 0.8358462950093615, 0.8343948748357296, 0.8353342170752118, 0.8334413821861743, 0.8347732602825546, 0.8344861569861005, 0.8335453859699837, 0.8342873217842648, 0.8336562577754001, 0.8387916221661953, 0.8371848968537305, 0.8332964074299601, 0.8333599850348368, 0.8338929668646907, 0.8316056620562425, 0.8328549717334665, 0.8325580313496012, 0.8331120691827751, 0.8317931211223161, 0.8342930949654317, 0.8350298126788435, 0.8344903159711189, 0.8312331676233052, 0.8324070430035903, 0.8307880076572579, 0.831649762275192, 0.831420065454578, 0.8336448096527622, 0.8351893184229977, 0.8349041087670018, 0.8327448843855983, 0.8329741452242839, 0.8316840320845005, 0.8333632195185904, 0.8316978652365169, 0.8292999577914854, 0.8302853452450526, 0.8303769645279551, 0.8304861458730483, 0.82981732000484, 0.8315895252201879, 0.8329703444819174, 0.8332147115016869, 0.831010717847312, 0.8297793707356304, 0.8298882671912019, 0.8301931155600271]\n",
      "     Sex\n",
      "2696   F\n",
      "1048   M\n",
      "4073   I\n",
      "408    M\n",
      "1608   I\n",
      "2552   I\n",
      "2959   F\n",
      "82     F\n",
      "3163   F\n",
      "3665   I\n",
      "['M' 'M' 'I' 'M' 'I' 'I' 'F' 'M' 'M' 'M']\n"
     ]
    }
   ],
   "source": [
    "print(clf)\n",
    "print(clf.loss_curve_)\n",
    "print(tsty[0:10])\n",
    "print(tsty_hat[0:10])"
   ]
  },
  {
   "cell_type": "markdown",
   "metadata": {},
   "source": [
    "## Requirement 5-1\n",
    "## A의 test data에 대한 accuracy"
   ]
  },
  {
   "cell_type": "code",
   "execution_count": 10,
   "metadata": {},
   "outputs": [
    {
     "data": {
      "text/plain": [
       "0.569377990430622"
      ]
     },
     "execution_count": 10,
     "metadata": {},
     "output_type": "execute_result"
    }
   ],
   "source": [
    "from sklearn.metrics import accuracy_score\n",
    "accuracy_score(tsty, tsty_hat)"
   ]
  },
  {
   "cell_type": "markdown",
   "metadata": {},
   "source": [
    "## Requirement 4\n",
    "## keras를 이용해서 Classifier B를 만든다"
   ]
  },
  {
   "cell_type": "code",
   "execution_count": 37,
   "metadata": {},
   "outputs": [],
   "source": [
    "import tensorflow as tf\n",
    "import keras\n",
    "from keras import layers, models, optimizers\n",
    "from keras.utils import to_categorical\n",
    "from tensorflow.keras.preprocessing.text import Tokenizer"
   ]
  },
  {
   "cell_type": "code",
   "execution_count": 38,
   "metadata": {},
   "outputs": [
    {
     "name": "stdout",
     "output_type": "stream",
     "text": [
      "  Sex\n",
      "0   M\n",
      "1   M\n",
      "2   F\n",
      "3   M\n",
      "4   I\n",
      "5   I\n",
      "6   F\n",
      "7   F\n",
      "8   M\n",
      "9   F\n",
      "[[0. 1. 0. 0.]\n",
      " [0. 1. 0. 0.]\n",
      " [0. 0. 1. 0.]\n",
      " [0. 1. 0. 0.]\n",
      " [0. 0. 0. 1.]\n",
      " [0. 0. 0. 1.]\n",
      " [0. 0. 1. 0.]\n",
      " [0. 0. 1. 0.]\n",
      " [0. 1. 0. 0.]\n",
      " [0. 0. 1. 0.]]\n"
     ]
    }
   ],
   "source": [
    "t = Tokenizer()\n",
    "t.fit_on_texts(['M','F','I'])\n",
    "datay = datay.reset_index(drop=True)\n",
    "encoded=t.texts_to_sequences(datay['Sex'])\n",
    "\n",
    "one_hot = to_categorical(encoded)\n",
    "print(datay[0:10])\n",
    "print(one_hot[0:10,:])\n",
    "\n",
    "trnx, tstx, trny, tsty = train_test_split(datax, one_hot, test_size=0.3, random_state=111)"
   ]
  },
  {
   "cell_type": "code",
   "execution_count": 39,
   "metadata": {},
   "outputs": [
    {
     "name": "stdout",
     "output_type": "stream",
     "text": [
      "(2923, 8) (1254, 8) (2923, 4) (1254, 4)\n"
     ]
    }
   ],
   "source": [
    "print(trnx.shape, tstx.shape, trny.shape, tsty.shape)"
   ]
  },
  {
   "cell_type": "code",
   "execution_count": 44,
   "metadata": {},
   "outputs": [],
   "source": [
    "input_shape = (8,)\n",
    "\n",
    "mlp_model = models.Sequential()\n",
    "mlp_model.add(layers.Dense(units = 800, activation = 'relu', input_shape=input_shape))\n",
    "mlp_model.add(layers.Dense(units = 1000, activation = 'relu'))\n",
    "mlp_model.add(layers.Dense(units = 500, activation = 'sigmoid'))\n",
    "mlp_model.add(layers.Dense(units = 4, activation = 'softmax'))\n",
    "\n",
    "mlp_model.compile(optimizer='Adam', loss = 'categorical_crossentropy', metrics=['accuracy'])"
   ]
  },
  {
   "cell_type": "code",
   "execution_count": 45,
   "metadata": {},
   "outputs": [
    {
     "name": "stdout",
     "output_type": "stream",
     "text": [
      "_________________________________________________________________\n",
      "Layer (type)                 Output Shape              Param #   \n",
      "=================================================================\n",
      "dense_25 (Dense)             (None, 800)               7200      \n",
      "_________________________________________________________________\n",
      "dense_26 (Dense)             (None, 1000)              801000    \n",
      "_________________________________________________________________\n",
      "dense_27 (Dense)             (None, 500)               500500    \n",
      "_________________________________________________________________\n",
      "dense_28 (Dense)             (None, 4)                 2004      \n",
      "=================================================================\n",
      "Total params: 1,310,704\n",
      "Trainable params: 1,310,704\n",
      "Non-trainable params: 0\n",
      "_________________________________________________________________\n"
     ]
    }
   ],
   "source": [
    "mlp_model.summary()"
   ]
  },
  {
   "cell_type": "code",
   "execution_count": 46,
   "metadata": {},
   "outputs": [
    {
     "name": "stdout",
     "output_type": "stream",
     "text": [
      "Train on 2923 samples, validate on 1254 samples\n",
      "Epoch 1/100\n",
      "2923/2923 [==============================] - 1s 183us/step - loss: 0.9437 - acc: 0.5036 - val_loss: 0.8844 - val_acc: 0.5375\n",
      "Epoch 2/100\n",
      "2923/2923 [==============================] - 0s 84us/step - loss: 0.8892 - acc: 0.5310 - val_loss: 0.8925 - val_acc: 0.5088\n",
      "Epoch 3/100\n",
      "2923/2923 [==============================] - 0s 83us/step - loss: 0.8803 - acc: 0.5344 - val_loss: 0.9423 - val_acc: 0.5016\n",
      "Epoch 4/100\n",
      "2923/2923 [==============================] - 0s 83us/step - loss: 0.9025 - acc: 0.5251 - val_loss: 0.8470 - val_acc: 0.5367\n",
      "Epoch 5/100\n",
      "2923/2923 [==============================] - 0s 84us/step - loss: 0.8815 - acc: 0.5251 - val_loss: 0.8671 - val_acc: 0.5391\n",
      "Epoch 6/100\n",
      "2923/2923 [==============================] - 0s 84us/step - loss: 0.8684 - acc: 0.5351 - val_loss: 0.8994 - val_acc: 0.5207\n",
      "Epoch 7/100\n",
      "2923/2923 [==============================] - 0s 85us/step - loss: 0.8725 - acc: 0.5337 - val_loss: 0.8653 - val_acc: 0.5271\n",
      "Epoch 8/100\n",
      "2923/2923 [==============================] - 0s 78us/step - loss: 0.8845 - acc: 0.5214 - val_loss: 0.8493 - val_acc: 0.5415\n",
      "Epoch 9/100\n",
      "2923/2923 [==============================] - 0s 82us/step - loss: 0.8571 - acc: 0.5361 - val_loss: 0.9001 - val_acc: 0.5088\n",
      "Epoch 10/100\n",
      "2923/2923 [==============================] - 0s 83us/step - loss: 0.8644 - acc: 0.5381 - val_loss: 0.9239 - val_acc: 0.5152\n",
      "Epoch 11/100\n",
      "2923/2923 [==============================] - 0s 80us/step - loss: 0.8687 - acc: 0.5440 - val_loss: 0.8665 - val_acc: 0.5279\n",
      "Epoch 12/100\n",
      "2923/2923 [==============================] - 0s 86us/step - loss: 0.8691 - acc: 0.5409 - val_loss: 0.8361 - val_acc: 0.5423\n",
      "Epoch 13/100\n",
      "2923/2923 [==============================] - 0s 85us/step - loss: 0.8626 - acc: 0.5361 - val_loss: 0.8582 - val_acc: 0.5399\n",
      "Epoch 14/100\n",
      "2923/2923 [==============================] - 0s 85us/step - loss: 0.8672 - acc: 0.5296 - val_loss: 0.8598 - val_acc: 0.5463\n",
      "Epoch 15/100\n",
      "2923/2923 [==============================] - 0s 82us/step - loss: 0.8589 - acc: 0.5354 - val_loss: 0.8361 - val_acc: 0.5502\n",
      "Epoch 16/100\n",
      "2923/2923 [==============================] - 0s 81us/step - loss: 0.8550 - acc: 0.5484 - val_loss: 0.8407 - val_acc: 0.5526\n",
      "Epoch 17/100\n",
      "2923/2923 [==============================] - 0s 83us/step - loss: 0.8595 - acc: 0.5436 - val_loss: 0.8340 - val_acc: 0.5407\n",
      "Epoch 18/100\n",
      "2923/2923 [==============================] - 0s 80us/step - loss: 0.8576 - acc: 0.5419 - val_loss: 0.8483 - val_acc: 0.5399\n",
      "Epoch 19/100\n",
      "2923/2923 [==============================] - 0s 82us/step - loss: 0.8524 - acc: 0.5470 - val_loss: 0.8698 - val_acc: 0.5303\n",
      "Epoch 20/100\n",
      "2923/2923 [==============================] - 0s 83us/step - loss: 0.8497 - acc: 0.5457 - val_loss: 0.8527 - val_acc: 0.5550\n",
      "Epoch 21/100\n",
      "2923/2923 [==============================] - 0s 84us/step - loss: 0.8649 - acc: 0.5327 - val_loss: 0.8375 - val_acc: 0.5606\n",
      "Epoch 22/100\n",
      "2923/2923 [==============================] - 0s 82us/step - loss: 0.8556 - acc: 0.5604 - val_loss: 0.8309 - val_acc: 0.5542\n",
      "Epoch 23/100\n",
      "2923/2923 [==============================] - 0s 85us/step - loss: 0.8556 - acc: 0.5409 - val_loss: 0.8364 - val_acc: 0.5510\n",
      "Epoch 24/100\n",
      "2923/2923 [==============================] - 0s 85us/step - loss: 0.8622 - acc: 0.5320 - val_loss: 0.8437 - val_acc: 0.5542\n",
      "Epoch 25/100\n",
      "2923/2923 [==============================] - 0s 82us/step - loss: 0.8541 - acc: 0.5464 - val_loss: 0.8457 - val_acc: 0.5470\n",
      "Epoch 26/100\n",
      "2923/2923 [==============================] - 0s 78us/step - loss: 0.8577 - acc: 0.5607 - val_loss: 0.9158 - val_acc: 0.5175\n",
      "Epoch 27/100\n",
      "2923/2923 [==============================] - 0s 83us/step - loss: 0.8590 - acc: 0.5470 - val_loss: 0.8312 - val_acc: 0.5654\n",
      "Epoch 28/100\n",
      "2923/2923 [==============================] - 0s 83us/step - loss: 0.8500 - acc: 0.5498 - val_loss: 0.8782 - val_acc: 0.5431\n",
      "Epoch 29/100\n",
      "2923/2923 [==============================] - 0s 83us/step - loss: 0.8703 - acc: 0.5327 - val_loss: 0.8370 - val_acc: 0.5526\n",
      "Epoch 30/100\n",
      "2923/2923 [==============================] - 0s 84us/step - loss: 0.8662 - acc: 0.5467 - val_loss: 0.8550 - val_acc: 0.5447\n",
      "Epoch 31/100\n",
      "2923/2923 [==============================] - 0s 86us/step - loss: 0.8480 - acc: 0.5583 - val_loss: 0.8318 - val_acc: 0.5518\n",
      "Epoch 32/100\n",
      "2923/2923 [==============================] - 0s 81us/step - loss: 0.8496 - acc: 0.5409 - val_loss: 0.8276 - val_acc: 0.5558\n",
      "Epoch 33/100\n",
      "2923/2923 [==============================] - 0s 84us/step - loss: 0.8428 - acc: 0.5508 - val_loss: 0.8365 - val_acc: 0.5478\n",
      "Epoch 34/100\n",
      "2923/2923 [==============================] - 0s 84us/step - loss: 0.8534 - acc: 0.5433 - val_loss: 0.8241 - val_acc: 0.5518\n",
      "Epoch 35/100\n",
      "2923/2923 [==============================] - 0s 83us/step - loss: 0.8479 - acc: 0.5395 - val_loss: 0.8432 - val_acc: 0.5415\n",
      "Epoch 36/100\n",
      "2923/2923 [==============================] - 0s 84us/step - loss: 0.8509 - acc: 0.5481 - val_loss: 0.8706 - val_acc: 0.5287\n",
      "Epoch 37/100\n",
      "2923/2923 [==============================] - 0s 83us/step - loss: 0.8571 - acc: 0.5477 - val_loss: 0.8522 - val_acc: 0.5407\n",
      "Epoch 38/100\n",
      "2923/2923 [==============================] - 0s 82us/step - loss: 0.8484 - acc: 0.5511 - val_loss: 0.8459 - val_acc: 0.5470\n",
      "Epoch 39/100\n",
      "2923/2923 [==============================] - 0s 81us/step - loss: 0.8467 - acc: 0.5491 - val_loss: 0.8379 - val_acc: 0.5590\n",
      "Epoch 40/100\n",
      "2923/2923 [==============================] - 0s 85us/step - loss: 0.8580 - acc: 0.5443 - val_loss: 0.8376 - val_acc: 0.5518\n",
      "Epoch 41/100\n",
      "2923/2923 [==============================] - 0s 82us/step - loss: 0.8679 - acc: 0.5371 - val_loss: 0.8293 - val_acc: 0.5606\n",
      "Epoch 42/100\n",
      "2923/2923 [==============================] - 0s 81us/step - loss: 0.8443 - acc: 0.5542 - val_loss: 0.8394 - val_acc: 0.5486\n",
      "Epoch 43/100\n",
      "2923/2923 [==============================] - 0s 83us/step - loss: 0.8519 - acc: 0.5535 - val_loss: 0.8565 - val_acc: 0.5367\n",
      "Epoch 44/100\n",
      "2923/2923 [==============================] - 0s 82us/step - loss: 0.8428 - acc: 0.5450 - val_loss: 0.8448 - val_acc: 0.5478\n",
      "Epoch 45/100\n",
      "2923/2923 [==============================] - 0s 83us/step - loss: 0.8401 - acc: 0.5628 - val_loss: 0.8344 - val_acc: 0.5494\n",
      "Epoch 46/100\n",
      "2923/2923 [==============================] - 0s 85us/step - loss: 0.8482 - acc: 0.5559 - val_loss: 0.8562 - val_acc: 0.5399\n",
      "Epoch 47/100\n",
      "2923/2923 [==============================] - 0s 84us/step - loss: 0.8434 - acc: 0.5347 - val_loss: 0.8334 - val_acc: 0.5542\n",
      "Epoch 48/100\n",
      "2923/2923 [==============================] - 0s 84us/step - loss: 0.8446 - acc: 0.5594 - val_loss: 0.8264 - val_acc: 0.5742\n",
      "Epoch 49/100\n",
      "2923/2923 [==============================] - 0s 83us/step - loss: 0.8426 - acc: 0.5388 - val_loss: 0.8642 - val_acc: 0.5407\n",
      "Epoch 50/100\n",
      "2923/2923 [==============================] - 0s 83us/step - loss: 0.8420 - acc: 0.5597 - val_loss: 0.8504 - val_acc: 0.5510\n",
      "Epoch 51/100\n",
      "2923/2923 [==============================] - 0s 83us/step - loss: 0.8511 - acc: 0.5553 - val_loss: 0.8373 - val_acc: 0.5510\n",
      "Epoch 52/100\n",
      "2923/2923 [==============================] - 0s 84us/step - loss: 0.8381 - acc: 0.5515 - val_loss: 0.8425 - val_acc: 0.5678\n",
      "Epoch 53/100\n",
      "2923/2923 [==============================] - 0s 81us/step - loss: 0.8429 - acc: 0.5470 - val_loss: 0.8805 - val_acc: 0.5478\n",
      "Epoch 54/100\n",
      "2923/2923 [==============================] - 0s 81us/step - loss: 0.8386 - acc: 0.5635 - val_loss: 0.8486 - val_acc: 0.5502\n",
      "Epoch 55/100\n",
      "2923/2923 [==============================] - 0s 83us/step - loss: 0.8425 - acc: 0.5631 - val_loss: 0.8462 - val_acc: 0.5407\n",
      "Epoch 56/100\n",
      "2923/2923 [==============================] - 0s 83us/step - loss: 0.8395 - acc: 0.5559 - val_loss: 0.8329 - val_acc: 0.5534\n",
      "Epoch 57/100\n",
      "2923/2923 [==============================] - 0s 84us/step - loss: 0.8391 - acc: 0.5515 - val_loss: 0.8371 - val_acc: 0.5447\n",
      "Epoch 58/100\n",
      "2923/2923 [==============================] - 0s 85us/step - loss: 0.8376 - acc: 0.5652 - val_loss: 0.8294 - val_acc: 0.5742\n",
      "Epoch 59/100\n",
      "2923/2923 [==============================] - 0s 82us/step - loss: 0.8373 - acc: 0.5604 - val_loss: 0.8293 - val_acc: 0.5702\n",
      "Epoch 60/100\n"
     ]
    },
    {
     "name": "stdout",
     "output_type": "stream",
     "text": [
      "2923/2923 [==============================] - 0s 82us/step - loss: 0.8370 - acc: 0.5706 - val_loss: 0.8800 - val_acc: 0.5478\n",
      "Epoch 61/100\n",
      "2923/2923 [==============================] - 0s 83us/step - loss: 0.8498 - acc: 0.5641 - val_loss: 0.8219 - val_acc: 0.5758\n",
      "Epoch 62/100\n",
      "2923/2923 [==============================] - 0s 83us/step - loss: 0.8378 - acc: 0.5587 - val_loss: 0.8257 - val_acc: 0.5734\n",
      "Epoch 63/100\n",
      "2923/2923 [==============================] - 0s 84us/step - loss: 0.8346 - acc: 0.5693 - val_loss: 0.8321 - val_acc: 0.5630\n",
      "Epoch 64/100\n",
      "2923/2923 [==============================] - 0s 84us/step - loss: 0.8419 - acc: 0.5655 - val_loss: 0.8653 - val_acc: 0.5431\n",
      "Epoch 65/100\n",
      "2923/2923 [==============================] - 0s 84us/step - loss: 0.8410 - acc: 0.5638 - val_loss: 0.8266 - val_acc: 0.5574\n",
      "Epoch 66/100\n",
      "2923/2923 [==============================] - 0s 83us/step - loss: 0.8349 - acc: 0.5522 - val_loss: 0.8315 - val_acc: 0.5670\n",
      "Epoch 67/100\n",
      "2923/2923 [==============================] - 0s 83us/step - loss: 0.8326 - acc: 0.5624 - val_loss: 0.8288 - val_acc: 0.5606\n",
      "Epoch 68/100\n",
      "2923/2923 [==============================] - 0s 84us/step - loss: 0.8378 - acc: 0.5597 - val_loss: 0.8467 - val_acc: 0.5518\n",
      "Epoch 69/100\n",
      "2923/2923 [==============================] - 0s 84us/step - loss: 0.8345 - acc: 0.5611 - val_loss: 0.8559 - val_acc: 0.5486\n",
      "Epoch 70/100\n",
      "2923/2923 [==============================] - 0s 84us/step - loss: 0.8351 - acc: 0.5618 - val_loss: 0.8306 - val_acc: 0.5574\n",
      "Epoch 71/100\n",
      "2923/2923 [==============================] - 0s 85us/step - loss: 0.8350 - acc: 0.5576 - val_loss: 0.8278 - val_acc: 0.5718\n",
      "Epoch 72/100\n",
      "2923/2923 [==============================] - 0s 83us/step - loss: 0.8338 - acc: 0.5628 - val_loss: 0.8376 - val_acc: 0.5478\n",
      "Epoch 73/100\n",
      "2923/2923 [==============================] - 0s 84us/step - loss: 0.8364 - acc: 0.5594 - val_loss: 0.8274 - val_acc: 0.5638\n",
      "Epoch 74/100\n",
      "2923/2923 [==============================] - 0s 84us/step - loss: 0.8362 - acc: 0.5532 - val_loss: 0.8402 - val_acc: 0.5662\n",
      "Epoch 75/100\n",
      "2923/2923 [==============================] - 0s 83us/step - loss: 0.8424 - acc: 0.5717 - val_loss: 0.8343 - val_acc: 0.5526\n",
      "Epoch 76/100\n",
      "2923/2923 [==============================] - 0s 81us/step - loss: 0.8339 - acc: 0.5635 - val_loss: 0.8342 - val_acc: 0.5670\n",
      "Epoch 77/100\n",
      "2923/2923 [==============================] - 0s 84us/step - loss: 0.8374 - acc: 0.5771 - val_loss: 0.8370 - val_acc: 0.5478\n",
      "Epoch 78/100\n",
      "2923/2923 [==============================] - 0s 85us/step - loss: 0.8333 - acc: 0.5645 - val_loss: 0.8309 - val_acc: 0.5614\n",
      "Epoch 79/100\n",
      "2923/2923 [==============================] - 0s 82us/step - loss: 0.8284 - acc: 0.5713 - val_loss: 0.8239 - val_acc: 0.5774\n",
      "Epoch 80/100\n",
      "2923/2923 [==============================] - 0s 83us/step - loss: 0.8417 - acc: 0.5734 - val_loss: 0.8462 - val_acc: 0.5510\n",
      "Epoch 81/100\n",
      "2923/2923 [==============================] - 0s 83us/step - loss: 0.8287 - acc: 0.5713 - val_loss: 0.8313 - val_acc: 0.5718\n",
      "Epoch 82/100\n",
      "2923/2923 [==============================] - 0s 83us/step - loss: 0.8403 - acc: 0.5429 - val_loss: 0.8451 - val_acc: 0.5582\n",
      "Epoch 83/100\n",
      "2923/2923 [==============================] - 0s 84us/step - loss: 0.8316 - acc: 0.5659 - val_loss: 0.8526 - val_acc: 0.5319\n",
      "Epoch 84/100\n",
      "2923/2923 [==============================] - 0s 84us/step - loss: 0.8385 - acc: 0.5532 - val_loss: 0.8319 - val_acc: 0.5813\n",
      "Epoch 85/100\n",
      "2923/2923 [==============================] - 0s 85us/step - loss: 0.8329 - acc: 0.5590 - val_loss: 0.8350 - val_acc: 0.5670\n",
      "Epoch 86/100\n",
      "2923/2923 [==============================] - 0s 82us/step - loss: 0.8401 - acc: 0.5535 - val_loss: 0.8329 - val_acc: 0.5574\n",
      "Epoch 87/100\n",
      "2923/2923 [==============================] - 0s 82us/step - loss: 0.8274 - acc: 0.5734 - val_loss: 0.8223 - val_acc: 0.5678\n",
      "Epoch 88/100\n",
      "2923/2923 [==============================] - 0s 83us/step - loss: 0.8297 - acc: 0.5700 - val_loss: 0.8375 - val_acc: 0.5718\n",
      "Epoch 89/100\n",
      "2923/2923 [==============================] - 0s 84us/step - loss: 0.8318 - acc: 0.5683 - val_loss: 0.8351 - val_acc: 0.5702\n",
      "Epoch 90/100\n",
      "2923/2923 [==============================] - 0s 83us/step - loss: 0.8244 - acc: 0.5782 - val_loss: 0.8629 - val_acc: 0.5534\n",
      "Epoch 91/100\n",
      "2923/2923 [==============================] - 0s 83us/step - loss: 0.8343 - acc: 0.5652 - val_loss: 0.8258 - val_acc: 0.5845\n",
      "Epoch 92/100\n",
      "2923/2923 [==============================] - 0s 84us/step - loss: 0.8267 - acc: 0.5748 - val_loss: 0.8318 - val_acc: 0.5670\n",
      "Epoch 93/100\n",
      "2923/2923 [==============================] - 0s 80us/step - loss: 0.8354 - acc: 0.5652 - val_loss: 0.8267 - val_acc: 0.5662\n",
      "Epoch 94/100\n",
      "2923/2923 [==============================] - 0s 84us/step - loss: 0.8279 - acc: 0.5754 - val_loss: 0.8293 - val_acc: 0.5694\n",
      "Epoch 95/100\n",
      "2923/2923 [==============================] - 0s 84us/step - loss: 0.8258 - acc: 0.5761 - val_loss: 0.8253 - val_acc: 0.5877\n",
      "Epoch 96/100\n",
      "2923/2923 [==============================] - 0s 84us/step - loss: 0.8354 - acc: 0.5679 - val_loss: 0.8248 - val_acc: 0.5606\n",
      "Epoch 97/100\n",
      "2923/2923 [==============================] - 0s 81us/step - loss: 0.8253 - acc: 0.5795 - val_loss: 0.8363 - val_acc: 0.5614\n",
      "Epoch 98/100\n",
      "2923/2923 [==============================] - 0s 83us/step - loss: 0.8225 - acc: 0.5703 - val_loss: 0.8289 - val_acc: 0.5622\n",
      "Epoch 99/100\n",
      "2923/2923 [==============================] - 0s 85us/step - loss: 0.8310 - acc: 0.5679 - val_loss: 0.8233 - val_acc: 0.5638\n",
      "Epoch 100/100\n",
      "2923/2923 [==============================] - 0s 82us/step - loss: 0.8242 - acc: 0.5683 - val_loss: 0.8675 - val_acc: 0.5383\n"
     ]
    }
   ],
   "source": [
    "history = mlp_model.fit(trnx, trny, validation_data = [tstx, tsty], batch_size=40, epochs=100)"
   ]
  },
  {
   "cell_type": "code",
   "execution_count": 47,
   "metadata": {},
   "outputs": [
    {
     "data": {
      "image/png": "[encoded data removed]",
      "text/plain": [
       "<Figure size 432x288 with 1 Axes>"
      ]
     },
     "metadata": {
      "needs_background": "light"
     },
     "output_type": "display_data"
    },
    {
     "data": {
      "image/png": "[encoded data removed]",
      "text/plain": [
       "<Figure size 432x288 with 1 Axes>"
      ]
     },
     "metadata": {
      "needs_background": "light"
     },
     "output_type": "display_data"
    }
   ],
   "source": [
    "plt.plot(history.history['acc'])\n",
    "plt.plot(history.history['val_acc'])\n",
    "plt.title('model accuracy')\n",
    "plt.ylabel('accuracy')\n",
    "plt.xlabel('epoch')\n",
    "plt.legend(['train', 'test'], loc='upper left')\n",
    "plt.show()\n",
    "# summarize history for loss\n",
    "plt.plot(history.history['loss'])\n",
    "plt.plot(history.history['val_loss'])\n",
    "plt.title('model loss')\n",
    "plt.ylabel('loss')\n",
    "plt.xlabel('epoch')\n",
    "plt.legend(['train', 'test'], loc='upper left')\n",
    "plt.show()"
   ]
  },
  {
   "cell_type": "code",
   "execution_count": null,
   "metadata": {},
   "outputs": [],
   "source": []
  }
 ],
 "metadata": {
  "kernelspec": {
   "display_name": "samsung",
   "language": "python",
   "name": "samsung"
  },
  "language_info": {
   "codemirror_mode": {
    "name": "ipython",
    "version": 3
   },
   "file_extension": ".py",
   "mimetype": "text/x-python",
   "name": "python",
   "nbconvert_exporter": "python",
   "pygments_lexer": "ipython3",
   "version": "3.6.7"
  }
 },
 "nbformat": 4,
 "nbformat_minor": 2
}
