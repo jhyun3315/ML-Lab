{
 "cells": [
  {
   "cell_type": "markdown",
   "metadata": {},
   "source": [
    "# AI_HW03: CNN by Keras"
   ]
  },
  {
   "cell_type": "code",
   "execution_count": 1,
   "metadata": {},
   "outputs": [
    {
     "name": "stderr",
     "output_type": "stream",
     "text": [
      "/home/kyle/anaconda3/lib/python3.6/importlib/_bootstrap.py:219: RuntimeWarning: compiletime version 3.5 of module 'tensorflow.python.framework.fast_tensor_util' does not match runtime version 3.6\n",
      "  return f(*args, **kwds)\n",
      "Using TensorFlow backend.\n"
     ]
    }
   ],
   "source": [
    "import numpy as np\n",
    "import pandas as pd\n",
    "import matplotlib.pyplot as plt\n",
    "%matplotlib inline\n",
    "\n",
    "from os.path import join\n",
    "\n",
    "import tensorflow as tf\n",
    "import keras\n",
    "from keras import layers, models, optimizers\n",
    "from keras.utils import to_categorical"
   ]
  },
  {
   "cell_type": "code",
   "execution_count": 2,
   "metadata": {},
   "outputs": [
    {
     "data": {
      "text/plain": [
       "'1.4.0'"
      ]
     },
     "execution_count": 2,
     "metadata": {},
     "output_type": "execute_result"
    }
   ],
   "source": [
    "tf.__version__"
   ]
  },
  {
   "cell_type": "code",
   "execution_count": 3,
   "metadata": {},
   "outputs": [],
   "source": [
    "datax = np.load(join('data','MNIST.npy'))\n",
    "datay = np.load(join('data','Label.npy'))"
   ]
  },
  {
   "cell_type": "code",
   "execution_count": 4,
   "metadata": {},
   "outputs": [
    {
     "name": "stdout",
     "output_type": "stream",
     "text": [
      "최대 : 1.0, 최소 : 0.0\n"
     ]
    }
   ],
   "source": [
    "datax_norm = datax/255\n",
    "print('최대 : {}, 최소 : {}'.format(np.max(datax_norm), np.min(datax_norm)))"
   ]
  },
  {
   "cell_type": "code",
   "execution_count": 5,
   "metadata": {},
   "outputs": [
    {
     "name": "stdout",
     "output_type": "stream",
     "text": [
      "[5 0 4 1 9 2 1 3 1 4]\n",
      "[[0. 0. 0. 0. 0. 1. 0. 0. 0. 0.]\n",
      " [1. 0. 0. 0. 0. 0. 0. 0. 0. 0.]\n",
      " [0. 0. 0. 0. 1. 0. 0. 0. 0. 0.]\n",
      " [0. 1. 0. 0. 0. 0. 0. 0. 0. 0.]\n",
      " [0. 0. 0. 0. 0. 0. 0. 0. 0. 1.]\n",
      " [0. 0. 1. 0. 0. 0. 0. 0. 0. 0.]\n",
      " [0. 1. 0. 0. 0. 0. 0. 0. 0. 0.]\n",
      " [0. 0. 0. 1. 0. 0. 0. 0. 0. 0.]\n",
      " [0. 1. 0. 0. 0. 0. 0. 0. 0. 0.]\n",
      " [0. 0. 0. 0. 1. 0. 0. 0. 0. 0.]]\n"
     ]
    }
   ],
   "source": [
    "datay_onehot = to_categorical(datay)\n",
    "print(datay[0:10])\n",
    "print(datay_onehot[0:10,:])"
   ]
  },
  {
   "cell_type": "markdown",
   "metadata": {},
   "source": [
    "## Requirement 1: Data를 train : test로 분할"
   ]
  },
  {
   "cell_type": "code",
   "execution_count": 6,
   "metadata": {},
   "outputs": [
    {
     "name": "stdout",
     "output_type": "stream",
     "text": [
      "(42000, 28, 28)\n",
      "(18000, 28, 28)\n",
      "(42000, 10)\n",
      "(28, 28)\n"
     ]
    }
   ],
   "source": [
    "from sklearn.model_selection import train_test_split\n",
    "trnx, tstx, trny, tsty = train_test_split(datax_norm, datay_onehot, test_size=0.3, random_state=111)\n",
    "print(trnx.shape)\n",
    "print(tstx.shape)\n",
    "print(trny.shape)\n",
    "print(trnx[0].shape)"
   ]
  },
  {
   "cell_type": "markdown",
   "metadata": {},
   "source": [
    "**Sequential API**"
   ]
  },
  {
   "cell_type": "code",
   "execution_count": 16,
   "metadata": {},
   "outputs": [
    {
     "ename": "ValueError",
     "evalue": "Unknown activation function:PReLU",
     "output_type": "error",
     "traceback": [
      "\u001b[0;31m---------------------------------------------------------------------------\u001b[0m",
      "\u001b[0;31mValueError\u001b[0m                                Traceback (most recent call last)",
      "\u001b[0;32m<ipython-input-16-b3ea66cdb5f4>\u001b[0m in \u001b[0;36m<module>\u001b[0;34m\u001b[0m\n\u001b[1;32m      5\u001b[0m \u001b[0mcnn_model\u001b[0m\u001b[0;34m.\u001b[0m\u001b[0madd\u001b[0m\u001b[0;34m(\u001b[0m\u001b[0mlayers\u001b[0m\u001b[0;34m.\u001b[0m\u001b[0mConv2D\u001b[0m\u001b[0;34m(\u001b[0m\u001b[0;36m16\u001b[0m\u001b[0;34m,\u001b[0m \u001b[0;34m(\u001b[0m\u001b[0;36m2\u001b[0m\u001b[0;34m,\u001b[0m\u001b[0;36m2\u001b[0m\u001b[0;34m)\u001b[0m\u001b[0;34m,\u001b[0m \u001b[0mpadding\u001b[0m\u001b[0;34m=\u001b[0m\u001b[0;34m'same'\u001b[0m\u001b[0;34m,\u001b[0m \u001b[0minput_shape\u001b[0m\u001b[0;34m=\u001b[0m\u001b[0minput_shape\u001b[0m\u001b[0;34m)\u001b[0m\u001b[0;34m)\u001b[0m\u001b[0;34m\u001b[0m\u001b[0;34m\u001b[0m\u001b[0m\n\u001b[1;32m      6\u001b[0m \u001b[0mcnn_model\u001b[0m\u001b[0;34m.\u001b[0m\u001b[0madd\u001b[0m\u001b[0;34m(\u001b[0m\u001b[0mlayers\u001b[0m\u001b[0;34m.\u001b[0m\u001b[0mBatchNormalization\u001b[0m\u001b[0;34m(\u001b[0m\u001b[0;34m)\u001b[0m\u001b[0;34m)\u001b[0m\u001b[0;34m\u001b[0m\u001b[0;34m\u001b[0m\u001b[0m\n\u001b[0;32m----> 7\u001b[0;31m \u001b[0mcnn_model\u001b[0m\u001b[0;34m.\u001b[0m\u001b[0madd\u001b[0m\u001b[0;34m(\u001b[0m\u001b[0mlayers\u001b[0m\u001b[0;34m.\u001b[0m\u001b[0mActivation\u001b[0m\u001b[0;34m(\u001b[0m\u001b[0;34m\"PReLU\"\u001b[0m\u001b[0;34m)\u001b[0m\u001b[0;34m)\u001b[0m\u001b[0;34m\u001b[0m\u001b[0;34m\u001b[0m\u001b[0m\n\u001b[0m\u001b[1;32m      8\u001b[0m \u001b[0mcnn_model\u001b[0m\u001b[0;34m.\u001b[0m\u001b[0madd\u001b[0m\u001b[0;34m(\u001b[0m\u001b[0mlayers\u001b[0m\u001b[0;34m.\u001b[0m\u001b[0mMaxPooling2D\u001b[0m\u001b[0;34m(\u001b[0m\u001b[0;34m(\u001b[0m\u001b[0;36m2\u001b[0m\u001b[0;34m,\u001b[0m\u001b[0;36m2\u001b[0m\u001b[0;34m)\u001b[0m\u001b[0;34m)\u001b[0m\u001b[0;34m)\u001b[0m\u001b[0;34m\u001b[0m\u001b[0;34m\u001b[0m\u001b[0m\n\u001b[1;32m      9\u001b[0m \u001b[0;34m\u001b[0m\u001b[0m\n",
      "\u001b[0;32m~/anaconda3/lib/python3.6/site-packages/keras/layers/core.py\u001b[0m in \u001b[0;36m__init__\u001b[0;34m(self, activation, **kwargs)\u001b[0m\n\u001b[1;32m    298\u001b[0m         \u001b[0msuper\u001b[0m\u001b[0;34m(\u001b[0m\u001b[0mActivation\u001b[0m\u001b[0;34m,\u001b[0m \u001b[0mself\u001b[0m\u001b[0;34m)\u001b[0m\u001b[0;34m.\u001b[0m\u001b[0m__init__\u001b[0m\u001b[0;34m(\u001b[0m\u001b[0;34m**\u001b[0m\u001b[0mkwargs\u001b[0m\u001b[0;34m)\u001b[0m\u001b[0;34m\u001b[0m\u001b[0;34m\u001b[0m\u001b[0m\n\u001b[1;32m    299\u001b[0m         \u001b[0mself\u001b[0m\u001b[0;34m.\u001b[0m\u001b[0msupports_masking\u001b[0m \u001b[0;34m=\u001b[0m \u001b[0;32mTrue\u001b[0m\u001b[0;34m\u001b[0m\u001b[0;34m\u001b[0m\u001b[0m\n\u001b[0;32m--> 300\u001b[0;31m         \u001b[0mself\u001b[0m\u001b[0;34m.\u001b[0m\u001b[0mactivation\u001b[0m \u001b[0;34m=\u001b[0m \u001b[0mactivations\u001b[0m\u001b[0;34m.\u001b[0m\u001b[0mget\u001b[0m\u001b[0;34m(\u001b[0m\u001b[0mactivation\u001b[0m\u001b[0;34m)\u001b[0m\u001b[0;34m\u001b[0m\u001b[0;34m\u001b[0m\u001b[0m\n\u001b[0m\u001b[1;32m    301\u001b[0m \u001b[0;34m\u001b[0m\u001b[0m\n\u001b[1;32m    302\u001b[0m     \u001b[0;32mdef\u001b[0m \u001b[0mcall\u001b[0m\u001b[0;34m(\u001b[0m\u001b[0mself\u001b[0m\u001b[0;34m,\u001b[0m \u001b[0minputs\u001b[0m\u001b[0;34m)\u001b[0m\u001b[0;34m:\u001b[0m\u001b[0;34m\u001b[0m\u001b[0;34m\u001b[0m\u001b[0m\n",
      "\u001b[0;32m~/anaconda3/lib/python3.6/site-packages/keras/activations.py\u001b[0m in \u001b[0;36mget\u001b[0;34m(identifier)\u001b[0m\n\u001b[1;32m    105\u001b[0m     \u001b[0;32mif\u001b[0m \u001b[0misinstance\u001b[0m\u001b[0;34m(\u001b[0m\u001b[0midentifier\u001b[0m\u001b[0;34m,\u001b[0m \u001b[0msix\u001b[0m\u001b[0;34m.\u001b[0m\u001b[0mstring_types\u001b[0m\u001b[0;34m)\u001b[0m\u001b[0;34m:\u001b[0m\u001b[0;34m\u001b[0m\u001b[0;34m\u001b[0m\u001b[0m\n\u001b[1;32m    106\u001b[0m         \u001b[0midentifier\u001b[0m \u001b[0;34m=\u001b[0m \u001b[0mstr\u001b[0m\u001b[0;34m(\u001b[0m\u001b[0midentifier\u001b[0m\u001b[0;34m)\u001b[0m\u001b[0;34m\u001b[0m\u001b[0;34m\u001b[0m\u001b[0m\n\u001b[0;32m--> 107\u001b[0;31m         \u001b[0;32mreturn\u001b[0m \u001b[0mdeserialize\u001b[0m\u001b[0;34m(\u001b[0m\u001b[0midentifier\u001b[0m\u001b[0;34m)\u001b[0m\u001b[0;34m\u001b[0m\u001b[0;34m\u001b[0m\u001b[0m\n\u001b[0m\u001b[1;32m    108\u001b[0m     \u001b[0;32melif\u001b[0m \u001b[0mcallable\u001b[0m\u001b[0;34m(\u001b[0m\u001b[0midentifier\u001b[0m\u001b[0;34m)\u001b[0m\u001b[0;34m:\u001b[0m\u001b[0;34m\u001b[0m\u001b[0;34m\u001b[0m\u001b[0m\n\u001b[1;32m    109\u001b[0m         \u001b[0;32mif\u001b[0m \u001b[0misinstance\u001b[0m\u001b[0;34m(\u001b[0m\u001b[0midentifier\u001b[0m\u001b[0;34m,\u001b[0m \u001b[0mLayer\u001b[0m\u001b[0;34m)\u001b[0m\u001b[0;34m:\u001b[0m\u001b[0;34m\u001b[0m\u001b[0;34m\u001b[0m\u001b[0m\n",
      "\u001b[0;32m~/anaconda3/lib/python3.6/site-packages/keras/activations.py\u001b[0m in \u001b[0;36mdeserialize\u001b[0;34m(name, custom_objects)\u001b[0m\n\u001b[1;32m     97\u001b[0m                                     \u001b[0mmodule_objects\u001b[0m\u001b[0;34m=\u001b[0m\u001b[0mglobals\u001b[0m\u001b[0;34m(\u001b[0m\u001b[0;34m)\u001b[0m\u001b[0;34m,\u001b[0m\u001b[0;34m\u001b[0m\u001b[0;34m\u001b[0m\u001b[0m\n\u001b[1;32m     98\u001b[0m                                     \u001b[0mcustom_objects\u001b[0m\u001b[0;34m=\u001b[0m\u001b[0mcustom_objects\u001b[0m\u001b[0;34m,\u001b[0m\u001b[0;34m\u001b[0m\u001b[0;34m\u001b[0m\u001b[0m\n\u001b[0;32m---> 99\u001b[0;31m                                     printable_module_name='activation function')\n\u001b[0m\u001b[1;32m    100\u001b[0m \u001b[0;34m\u001b[0m\u001b[0m\n\u001b[1;32m    101\u001b[0m \u001b[0;34m\u001b[0m\u001b[0m\n",
      "\u001b[0;32m~/anaconda3/lib/python3.6/site-packages/keras/utils/generic_utils.py\u001b[0m in \u001b[0;36mdeserialize_keras_object\u001b[0;34m(identifier, module_objects, custom_objects, printable_module_name)\u001b[0m\n\u001b[1;32m    162\u001b[0m             \u001b[0;32mif\u001b[0m \u001b[0mfn\u001b[0m \u001b[0;32mis\u001b[0m \u001b[0;32mNone\u001b[0m\u001b[0;34m:\u001b[0m\u001b[0;34m\u001b[0m\u001b[0;34m\u001b[0m\u001b[0m\n\u001b[1;32m    163\u001b[0m                 raise ValueError('Unknown ' + printable_module_name +\n\u001b[0;32m--> 164\u001b[0;31m                                  ':' + function_name)\n\u001b[0m\u001b[1;32m    165\u001b[0m         \u001b[0;32mreturn\u001b[0m \u001b[0mfn\u001b[0m\u001b[0;34m\u001b[0m\u001b[0;34m\u001b[0m\u001b[0m\n\u001b[1;32m    166\u001b[0m     \u001b[0;32melse\u001b[0m\u001b[0;34m:\u001b[0m\u001b[0;34m\u001b[0m\u001b[0;34m\u001b[0m\u001b[0m\n",
      "\u001b[0;31mValueError\u001b[0m: Unknown activation function:PReLU"
     ]
    }
   ],
   "source": [
    "input_shape = (28,28,1)\n",
    "\n",
    "cnn_model = models.Sequential()\n",
    "\n",
    "cnn_model.add(layers.Conv2D(16, (2,2), padding='same', input_shape=input_shape))\n",
    "cnn_model.add(layers.BatchNormalization())\n",
    "cnn_model.add(layers.Activation(\"PReLU\"))\n",
    "cnn_model.add(layers.MaxPooling2D((2,2)))\n",
    "\n",
    "cnn_model.add(layers.Conv2D(32, (2,2), padding='same'))\n",
    "cnn_model.add(layers.BatchNormalization())\n",
    "cnn_model.add(layers.Activation(\"relu\"))\n",
    "cnn_model.add(layers.Dropout(0.3))\n",
    "cnn_model.add(layers.MaxPooling2D((2,2)))\n",
    "\n",
    "cnn_model.add(layers.Conv2D(64, (2,2), padding='same'))\n",
    "cnn_model.add(layers.BatchNormalization())\n",
    "cnn_model.add(layers.Activation(\"relu\"))\n",
    "cnn_model.add(layers.Dropout(0.3))\n",
    "cnn_model.add(layers.MaxPooling2D((2,2)))\n",
    "\n",
    "cnn_model.add(layers.Flatten())\n",
    "\n",
    "cnn_model.add(layers.Dense(units = 128, activation = \"relu\"))\n",
    "cnn_model.add(layers.Dense(units = 10, activation =  \"softmax\"))\n",
    "\n",
    "cnn_model.compile(optimizer='Adam', loss = 'categorical_crossentropy', metrics=['accuracy'])"
   ]
  },
  {
   "cell_type": "code",
   "execution_count": 8,
   "metadata": {},
   "outputs": [
    {
     "name": "stdout",
     "output_type": "stream",
     "text": [
      "_________________________________________________________________\n",
      "Layer (type)                 Output Shape              Param #   \n",
      "=================================================================\n",
      "conv2d_1 (Conv2D)            (None, 28, 28, 16)        80        \n",
      "_________________________________________________________________\n",
      "batch_normalization_1 (Batch (None, 28, 28, 16)        64        \n",
      "_________________________________________________________________\n",
      "activation_1 (Activation)    (None, 28, 28, 16)        0         \n",
      "_________________________________________________________________\n",
      "max_pooling2d_1 (MaxPooling2 (None, 14, 14, 16)        0         \n",
      "_________________________________________________________________\n",
      "conv2d_2 (Conv2D)            (None, 14, 14, 32)        2080      \n",
      "_________________________________________________________________\n",
      "batch_normalization_2 (Batch (None, 14, 14, 32)        128       \n",
      "_________________________________________________________________\n",
      "activation_2 (Activation)    (None, 14, 14, 32)        0         \n",
      "_________________________________________________________________\n",
      "dropout_1 (Dropout)          (None, 14, 14, 32)        0         \n",
      "_________________________________________________________________\n",
      "max_pooling2d_2 (MaxPooling2 (None, 7, 7, 32)          0         \n",
      "_________________________________________________________________\n",
      "conv2d_3 (Conv2D)            (None, 7, 7, 64)          8256      \n",
      "_________________________________________________________________\n",
      "batch_normalization_3 (Batch (None, 7, 7, 64)          256       \n",
      "_________________________________________________________________\n",
      "activation_3 (Activation)    (None, 7, 7, 64)          0         \n",
      "_________________________________________________________________\n",
      "dropout_2 (Dropout)          (None, 7, 7, 64)          0         \n",
      "_________________________________________________________________\n",
      "max_pooling2d_3 (MaxPooling2 (None, 3, 3, 64)          0         \n",
      "_________________________________________________________________\n",
      "flatten_1 (Flatten)          (None, 576)               0         \n",
      "_________________________________________________________________\n",
      "dense_1 (Dense)              (None, 128)               73856     \n",
      "_________________________________________________________________\n",
      "dense_2 (Dense)              (None, 10)                1290      \n",
      "=================================================================\n",
      "Total params: 86,010\n",
      "Trainable params: 85,786\n",
      "Non-trainable params: 224\n",
      "_________________________________________________________________\n"
     ]
    }
   ],
   "source": [
    "cnn_model.summary()"
   ]
  },
  {
   "cell_type": "code",
   "execution_count": 9,
   "metadata": {},
   "outputs": [
    {
     "name": "stdout",
     "output_type": "stream",
     "text": [
      "(42000, 28, 28, 1)\n"
     ]
    }
   ],
   "source": [
    "trnx_reshape = trnx.reshape(-1,28,28,1)\n",
    "tstx_reshape = tstx.reshape(-1,28,28,1)\n",
    "print(trnx_reshape.shape)"
   ]
  },
  {
   "cell_type": "code",
   "execution_count": 10,
   "metadata": {
    "scrolled": true
   },
   "outputs": [
    {
     "name": "stdout",
     "output_type": "stream",
     "text": [
      "Train on 42000 samples, validate on 18000 samples\n",
      "Epoch 1/50\n",
      "42000/42000 [==============================] - 15s 366us/step - loss: 0.6106 - acc: 0.8190 - val_loss: 0.1721 - val_acc: 0.9516\n",
      "Epoch 2/50\n",
      "42000/42000 [==============================] - 15s 349us/step - loss: 0.1427 - acc: 0.9553 - val_loss: 0.1092 - val_acc: 0.9708\n",
      "Epoch 3/50\n",
      "42000/42000 [==============================] - 14s 344us/step - loss: 0.1026 - acc: 0.9677 - val_loss: 0.0870 - val_acc: 0.9752\n",
      "Epoch 4/50\n",
      "42000/42000 [==============================] - 14s 345us/step - loss: 0.0816 - acc: 0.9745 - val_loss: 0.0952 - val_acc: 0.9732\n",
      "Epoch 5/50\n",
      "42000/42000 [==============================] - 15s 346us/step - loss: 0.0739 - acc: 0.9766 - val_loss: 0.0768 - val_acc: 0.9771\n",
      "Epoch 6/50\n",
      "42000/42000 [==============================] - 14s 345us/step - loss: 0.0615 - acc: 0.9800 - val_loss: 0.0607 - val_acc: 0.9826\n",
      "Epoch 7/50\n",
      "42000/42000 [==============================] - 15s 346us/step - loss: 0.0562 - acc: 0.9827 - val_loss: 0.0476 - val_acc: 0.9869\n",
      "Epoch 8/50\n",
      "42000/42000 [==============================] - 15s 346us/step - loss: 0.0499 - acc: 0.9834 - val_loss: 0.0569 - val_acc: 0.9836\n",
      "Epoch 9/50\n",
      "42000/42000 [==============================] - 14s 345us/step - loss: 0.0520 - acc: 0.9831 - val_loss: 0.0513 - val_acc: 0.9854\n",
      "Epoch 10/50\n",
      "42000/42000 [==============================] - 15s 345us/step - loss: 0.0485 - acc: 0.9843 - val_loss: 0.0525 - val_acc: 0.9839\n",
      "Epoch 11/50\n",
      "42000/42000 [==============================] - 15s 347us/step - loss: 0.0421 - acc: 0.9863 - val_loss: 0.0380 - val_acc: 0.9886\n",
      "Epoch 12/50\n",
      "42000/42000 [==============================] - 15s 346us/step - loss: 0.0360 - acc: 0.9880 - val_loss: 0.0440 - val_acc: 0.9873\n",
      "Epoch 13/50\n",
      "42000/42000 [==============================] - 15s 351us/step - loss: 0.0360 - acc: 0.9883 - val_loss: 0.0337 - val_acc: 0.9899\n",
      "Epoch 14/50\n",
      "42000/42000 [==============================] - 15s 346us/step - loss: 0.0315 - acc: 0.9898 - val_loss: 0.0356 - val_acc: 0.9896\n",
      "Epoch 15/50\n",
      "42000/42000 [==============================] - 15s 345us/step - loss: 0.0295 - acc: 0.9908 - val_loss: 0.0384 - val_acc: 0.9891\n",
      "Epoch 16/50\n",
      "42000/42000 [==============================] - 15s 345us/step - loss: 0.0263 - acc: 0.9914 - val_loss: 0.0368 - val_acc: 0.9889\n",
      "Epoch 17/50\n",
      "42000/42000 [==============================] - 15s 348us/step - loss: 0.0253 - acc: 0.9918 - val_loss: 0.0348 - val_acc: 0.9902\n",
      "Epoch 18/50\n",
      "42000/42000 [==============================] - 14s 342us/step - loss: 0.0258 - acc: 0.9915 - val_loss: 0.0357 - val_acc: 0.9896\n",
      "Epoch 19/50\n",
      "42000/42000 [==============================] - 15s 345us/step - loss: 0.0265 - acc: 0.9911 - val_loss: 0.0315 - val_acc: 0.9911\n",
      "Epoch 20/50\n",
      "42000/42000 [==============================] - 14s 343us/step - loss: 0.0245 - acc: 0.9919 - val_loss: 0.0312 - val_acc: 0.9906\n",
      "Epoch 21/50\n",
      "42000/42000 [==============================] - 15s 348us/step - loss: 0.0203 - acc: 0.9933 - val_loss: 0.0300 - val_acc: 0.9911\n",
      "Epoch 22/50\n",
      "42000/42000 [==============================] - 14s 343us/step - loss: 0.0211 - acc: 0.9928 - val_loss: 0.0624 - val_acc: 0.9807\n",
      "Epoch 23/50\n",
      "42000/42000 [==============================] - 14s 343us/step - loss: 0.0316 - acc: 0.9893 - val_loss: 0.0335 - val_acc: 0.9897\n",
      "Epoch 24/50\n",
      "42000/42000 [==============================] - 15s 346us/step - loss: 0.0204 - acc: 0.9933 - val_loss: 0.0586 - val_acc: 0.9809\n",
      "Epoch 25/50\n",
      "42000/42000 [==============================] - 14s 340us/step - loss: 0.0231 - acc: 0.9926 - val_loss: 0.0283 - val_acc: 0.9920\n",
      "Epoch 26/50\n",
      "42000/42000 [==============================] - 14s 342us/step - loss: 0.0245 - acc: 0.9916 - val_loss: 0.0269 - val_acc: 0.9919\n",
      "Epoch 27/50\n",
      "42000/42000 [==============================] - 15s 347us/step - loss: 0.0182 - acc: 0.9936 - val_loss: 0.0341 - val_acc: 0.9902\n",
      "Epoch 28/50\n",
      "42000/42000 [==============================] - 14s 344us/step - loss: 0.0168 - acc: 0.9941 - val_loss: 0.0349 - val_acc: 0.9898\n",
      "Epoch 29/50\n",
      "42000/42000 [==============================] - 14s 345us/step - loss: 0.0159 - acc: 0.9947 - val_loss: 0.0314 - val_acc: 0.9904\n",
      "Epoch 30/50\n",
      "42000/42000 [==============================] - 14s 345us/step - loss: 0.0145 - acc: 0.9951 - val_loss: 0.0306 - val_acc: 0.9905\n",
      "Epoch 31/50\n",
      "42000/42000 [==============================] - 14s 344us/step - loss: 0.0160 - acc: 0.9946 - val_loss: 0.0314 - val_acc: 0.9909\n",
      "Epoch 32/50\n",
      "42000/42000 [==============================] - 15s 345us/step - loss: 0.0137 - acc: 0.9953 - val_loss: 0.0272 - val_acc: 0.9926\n",
      "Epoch 33/50\n",
      "42000/42000 [==============================] - 14s 344us/step - loss: 0.0141 - acc: 0.9949 - val_loss: 0.0289 - val_acc: 0.9914\n",
      "Epoch 34/50\n",
      "42000/42000 [==============================] - 14s 343us/step - loss: 0.0133 - acc: 0.9955 - val_loss: 0.0264 - val_acc: 0.9925\n",
      "Epoch 35/50\n",
      "42000/42000 [==============================] - 14s 343us/step - loss: 0.0131 - acc: 0.9957 - val_loss: 0.0282 - val_acc: 0.9917\n",
      "Epoch 36/50\n",
      "42000/42000 [==============================] - 14s 342us/step - loss: 0.0129 - acc: 0.9957 - val_loss: 0.0858 - val_acc: 0.9728\n",
      "Epoch 37/50\n",
      "42000/42000 [==============================] - 15s 345us/step - loss: 0.0278 - acc: 0.9910 - val_loss: 0.0318 - val_acc: 0.9907\n",
      "Epoch 38/50\n",
      "42000/42000 [==============================] - 15s 348us/step - loss: 0.0134 - acc: 0.9956 - val_loss: 0.0469 - val_acc: 0.9862\n",
      "Epoch 39/50\n",
      "42000/42000 [==============================] - 14s 341us/step - loss: 0.0255 - acc: 0.9912 - val_loss: 0.0301 - val_acc: 0.9906\n",
      "Epoch 40/50\n",
      "42000/42000 [==============================] - 14s 343us/step - loss: 0.0124 - acc: 0.9959 - val_loss: 0.0275 - val_acc: 0.9917\n",
      "Epoch 41/50\n",
      "42000/42000 [==============================] - 14s 344us/step - loss: 0.0112 - acc: 0.9964 - val_loss: 0.0276 - val_acc: 0.9919\n",
      "Epoch 42/50\n",
      "42000/42000 [==============================] - 15s 346us/step - loss: 0.0133 - acc: 0.9956 - val_loss: 0.0268 - val_acc: 0.9917\n",
      "Epoch 43/50\n",
      "42000/42000 [==============================] - 14s 343us/step - loss: 0.0152 - acc: 0.9948 - val_loss: 0.0300 - val_acc: 0.9909\n",
      "Epoch 44/50\n",
      "42000/42000 [==============================] - 15s 348us/step - loss: 0.0092 - acc: 0.9971 - val_loss: 0.0255 - val_acc: 0.9927\n",
      "Epoch 45/50\n",
      "42000/42000 [==============================] - 14s 344us/step - loss: 0.0103 - acc: 0.9963 - val_loss: 0.0274 - val_acc: 0.9916\n",
      "Epoch 46/50\n",
      "42000/42000 [==============================] - 15s 347us/step - loss: 0.0096 - acc: 0.9970 - val_loss: 0.0291 - val_acc: 0.9912\n",
      "Epoch 47/50\n",
      "42000/42000 [==============================] - 14s 344us/step - loss: 0.0078 - acc: 0.9975 - val_loss: 0.0269 - val_acc: 0.9916\n",
      "Epoch 48/50\n",
      "42000/42000 [==============================] - 15s 348us/step - loss: 0.0095 - acc: 0.9966 - val_loss: 0.0249 - val_acc: 0.9928\n",
      "Epoch 49/50\n",
      "42000/42000 [==============================] - 14s 339us/step - loss: 0.0103 - acc: 0.9965 - val_loss: 0.0276 - val_acc: 0.9919\n",
      "Epoch 50/50\n",
      "42000/42000 [==============================] - 14s 344us/step - loss: 0.0100 - acc: 0.9968 - val_loss: 0.0272 - val_acc: 0.9921\n"
     ]
    }
   ],
   "source": [
    "history = cnn_model.fit(trnx_reshape, trny, validation_data = [tstx_reshape, tsty], batch_size=512, epochs=50)"
   ]
  },
  {
   "cell_type": "code",
   "execution_count": 11,
   "metadata": {},
   "outputs": [
    {
     "data": {
      "image/png": "[encoded data removed]",
      "text/plain": [
       "<Figure size 432x288 with 1 Axes>"
      ]
     },
     "metadata": {
      "needs_background": "light"
     },
     "output_type": "display_data"
    },
    {
     "data": {
      "image/png": "[encoded data removed]",
      "text/plain": [
       "<Figure size 432x288 with 1 Axes>"
      ]
     },
     "metadata": {
      "needs_background": "light"
     },
     "output_type": "display_data"
    }
   ],
   "source": [
    "plt.plot(history.history['acc'])\n",
    "plt.plot(history.history['val_acc'])\n",
    "plt.title('model accuracy')\n",
    "plt.ylabel('accuracy')\n",
    "plt.xlabel('epoch')\n",
    "plt.legend(['train', 'test'], loc='upper left')\n",
    "plt.show()\n",
    "# summarize history for loss\n",
    "plt.plot(history.history['loss'])\n",
    "plt.plot(history.history['val_loss'])\n",
    "plt.title('model loss')\n",
    "plt.ylabel('loss')\n",
    "plt.xlabel('epoch')\n",
    "plt.legend(['train', 'test'], loc='upper left')\n",
    "plt.show()"
   ]
  },
  {
   "cell_type": "markdown",
   "metadata": {},
   "source": [
    "**Funtional API**"
   ]
  },
  {
   "cell_type": "code",
   "execution_count": 12,
   "metadata": {},
   "outputs": [],
   "source": [
    "input_shape = (28,28,1)\n",
    "\n",
    "input_tensor = layers.Input(shape = input_shape)\n",
    "\n",
    "conv1_1 = layers.Conv2D(16, (2,2), padding='same')(input_tensor)\n",
    "conv1_2 = layers.BatchNormalization()(conv1_1)\n",
    "conv1_3 = layers.Activation(\"relu\")(conv1_2)\n",
    "conv1_4 = layers.MaxPooling2D((2,2))(conv1_3)\n",
    "\n",
    "conv2_1 = layers.Conv2D(32, (2,2), padding='same')(conv1_4)\n",
    "conv2_2 = layers.BatchNormalization()(conv2_1)\n",
    "conv2_3 = layers.Activation(\"relu\")(conv2_2)\n",
    "conv2_4 = layers.Dropout(0.2)(conv2_3)\n",
    "conv2_5 = layers.MaxPooling2D((2,2))(conv2_4)\n",
    "\n",
    "conv3_1 = layers.Conv2D(64, (2,2), padding='same')(conv2_5)\n",
    "conv3_2 = layers.BatchNormalization()(conv3_1)\n",
    "conv3_3 = layers.Activation(\"relu\")(conv3_2)\n",
    "conv3_4 = layers.Dropout(0.2)(conv3_3)\n",
    "conv3_5 = layers.MaxPooling2D((2,2))(conv3_4)\n",
    "\n",
    "conv4_1 = layers.Conv2D(128, (2,2), padding='same')(conv3_5)\n",
    "conv4_2 = layers.BatchNormalization()(conv4_1)\n",
    "conv4_3 = layers.Activation(\"relu\")(conv4_2)\n",
    "conv4_4 = layers.Dropout(0.2)(conv4_3)\n",
    "\n",
    "\n",
    "flatted = layers.Flatten()(conv4_4)\n",
    "\n",
    "dense1 = layers.Dense(128, activation=\"relu\")(flatted)\n",
    "dense2 = layers.Dense(64, activation=\"relu\")(dense1)\n",
    "output_class = layers.Dense(10, activation=\"softmax\")(dense2)\n",
    "\n",
    "cnn_fmodel = models.Model(input_tensor, output_class)\n",
    "cnn_fmodel.compile(optimizer='Adam', loss = 'categorical_crossentropy', metrics=['accuracy'])"
   ]
  },
  {
   "cell_type": "code",
   "execution_count": 13,
   "metadata": {},
   "outputs": [
    {
     "name": "stdout",
     "output_type": "stream",
     "text": [
      "_________________________________________________________________\n",
      "Layer (type)                 Output Shape              Param #   \n",
      "=================================================================\n",
      "input_1 (InputLayer)         (None, 28, 28, 1)         0         \n",
      "_________________________________________________________________\n",
      "conv2d_4 (Conv2D)            (None, 28, 28, 16)        80        \n",
      "_________________________________________________________________\n",
      "batch_normalization_4 (Batch (None, 28, 28, 16)        64        \n",
      "_________________________________________________________________\n",
      "activation_4 (Activation)    (None, 28, 28, 16)        0         \n",
      "_________________________________________________________________\n",
      "max_pooling2d_4 (MaxPooling2 (None, 14, 14, 16)        0         \n",
      "_________________________________________________________________\n",
      "conv2d_5 (Conv2D)            (None, 14, 14, 32)        2080      \n",
      "_________________________________________________________________\n",
      "batch_normalization_5 (Batch (None, 14, 14, 32)        128       \n",
      "_________________________________________________________________\n",
      "activation_5 (Activation)    (None, 14, 14, 32)        0         \n",
      "_________________________________________________________________\n",
      "dropout_3 (Dropout)          (None, 14, 14, 32)        0         \n",
      "_________________________________________________________________\n",
      "max_pooling2d_5 (MaxPooling2 (None, 7, 7, 32)          0         \n",
      "_________________________________________________________________\n",
      "conv2d_6 (Conv2D)            (None, 7, 7, 64)          8256      \n",
      "_________________________________________________________________\n",
      "batch_normalization_6 (Batch (None, 7, 7, 64)          256       \n",
      "_________________________________________________________________\n",
      "activation_6 (Activation)    (None, 7, 7, 64)          0         \n",
      "_________________________________________________________________\n",
      "dropout_4 (Dropout)          (None, 7, 7, 64)          0         \n",
      "_________________________________________________________________\n",
      "max_pooling2d_6 (MaxPooling2 (None, 3, 3, 64)          0         \n",
      "_________________________________________________________________\n",
      "conv2d_7 (Conv2D)            (None, 3, 3, 128)         32896     \n",
      "_________________________________________________________________\n",
      "batch_normalization_7 (Batch (None, 3, 3, 128)         512       \n",
      "_________________________________________________________________\n",
      "activation_7 (Activation)    (None, 3, 3, 128)         0         \n",
      "_________________________________________________________________\n",
      "dropout_5 (Dropout)          (None, 3, 3, 128)         0         \n",
      "_________________________________________________________________\n",
      "flatten_2 (Flatten)          (None, 1152)              0         \n",
      "_________________________________________________________________\n",
      "dense_3 (Dense)              (None, 128)               147584    \n",
      "_________________________________________________________________\n",
      "dense_4 (Dense)              (None, 64)                8256      \n",
      "_________________________________________________________________\n",
      "dense_5 (Dense)              (None, 10)                650       \n",
      "=================================================================\n",
      "Total params: 200,762\n",
      "Trainable params: 200,282\n",
      "Non-trainable params: 480\n",
      "_________________________________________________________________\n"
     ]
    }
   ],
   "source": [
    "cnn_fmodel.summary()"
   ]
  },
  {
   "cell_type": "code",
   "execution_count": 14,
   "metadata": {},
   "outputs": [
    {
     "name": "stdout",
     "output_type": "stream",
     "text": [
      "Train on 42000 samples, validate on 18000 samples\n",
      "Epoch 1/50\n",
      "42000/42000 [==============================] - 16s 380us/step - loss: 0.4726 - acc: 0.8523 - val_loss: 0.1435 - val_acc: 0.9581\n",
      "Epoch 2/50\n",
      "42000/42000 [==============================] - 16s 371us/step - loss: 0.1107 - acc: 0.9646 - val_loss: 0.0922 - val_acc: 0.9731\n",
      "Epoch 3/50\n",
      "42000/42000 [==============================] - 16s 370us/step - loss: 0.0838 - acc: 0.9737 - val_loss: 0.0973 - val_acc: 0.9711\n",
      "Epoch 4/50\n",
      "42000/42000 [==============================] - 16s 371us/step - loss: 0.0617 - acc: 0.9796 - val_loss: 0.0596 - val_acc: 0.9839\n",
      "Epoch 5/50\n",
      "42000/42000 [==============================] - 15s 368us/step - loss: 0.0557 - acc: 0.9825 - val_loss: 0.1008 - val_acc: 0.9654\n",
      "Epoch 6/50\n",
      "42000/42000 [==============================] - 15s 366us/step - loss: 0.0489 - acc: 0.9843 - val_loss: 0.0933 - val_acc: 0.9732\n",
      "Epoch 7/50\n",
      "42000/42000 [==============================] - 15s 365us/step - loss: 0.0695 - acc: 0.9779 - val_loss: 0.0516 - val_acc: 0.9838\n",
      "Epoch 8/50\n",
      "42000/42000 [==============================] - 16s 370us/step - loss: 0.0415 - acc: 0.9873 - val_loss: 0.0700 - val_acc: 0.9781\n",
      "Epoch 9/50\n",
      "42000/42000 [==============================] - 16s 371us/step - loss: 0.0421 - acc: 0.9862 - val_loss: 0.0456 - val_acc: 0.9863\n",
      "Epoch 10/50\n",
      "42000/42000 [==============================] - 16s 373us/step - loss: 0.0362 - acc: 0.9881 - val_loss: 0.0428 - val_acc: 0.9876\n",
      "Epoch 11/50\n",
      "42000/42000 [==============================] - 16s 375us/step - loss: 0.0321 - acc: 0.9894 - val_loss: 0.0440 - val_acc: 0.9864\n",
      "Epoch 12/50\n",
      "42000/42000 [==============================] - 15s 362us/step - loss: 0.0288 - acc: 0.9904 - val_loss: 0.0334 - val_acc: 0.9897\n",
      "Epoch 13/50\n",
      "42000/42000 [==============================] - 16s 370us/step - loss: 0.0280 - acc: 0.9907 - val_loss: 0.0427 - val_acc: 0.9863\n",
      "Epoch 14/50\n",
      "42000/42000 [==============================] - 15s 368us/step - loss: 0.0289 - acc: 0.9900 - val_loss: 0.0340 - val_acc: 0.9893\n",
      "Epoch 15/50\n",
      "42000/42000 [==============================] - 15s 368us/step - loss: 0.0250 - acc: 0.9918 - val_loss: 0.0370 - val_acc: 0.9891\n",
      "Epoch 16/50\n",
      "42000/42000 [==============================] - 15s 368us/step - loss: 0.0229 - acc: 0.9920 - val_loss: 0.0411 - val_acc: 0.9873\n",
      "Epoch 17/50\n",
      "42000/42000 [==============================] - 15s 360us/step - loss: 0.0247 - acc: 0.9917 - val_loss: 0.0353 - val_acc: 0.9900\n",
      "Epoch 18/50\n",
      "42000/42000 [==============================] - 15s 365us/step - loss: 0.0209 - acc: 0.9929 - val_loss: 0.0461 - val_acc: 0.9855\n",
      "Epoch 19/50\n",
      "42000/42000 [==============================] - 16s 372us/step - loss: 0.0241 - acc: 0.9910 - val_loss: 0.0483 - val_acc: 0.9854\n",
      "Epoch 20/50\n",
      "42000/42000 [==============================] - 15s 368us/step - loss: 0.0207 - acc: 0.9932 - val_loss: 0.0294 - val_acc: 0.9914\n",
      "Epoch 21/50\n",
      "42000/42000 [==============================] - 15s 366us/step - loss: 0.0188 - acc: 0.9935 - val_loss: 0.0333 - val_acc: 0.9899\n",
      "Epoch 22/50\n",
      "42000/42000 [==============================] - 15s 362us/step - loss: 0.0176 - acc: 0.9941 - val_loss: 0.0356 - val_acc: 0.9897\n",
      "Epoch 23/50\n",
      "42000/42000 [==============================] - 15s 368us/step - loss: 0.0192 - acc: 0.9933 - val_loss: 0.0234 - val_acc: 0.9931\n",
      "Epoch 24/50\n",
      "42000/42000 [==============================] - 15s 365us/step - loss: 0.0230 - acc: 0.9920 - val_loss: 0.0338 - val_acc: 0.9896\n",
      "Epoch 25/50\n",
      "42000/42000 [==============================] - 15s 362us/step - loss: 0.0190 - acc: 0.9931 - val_loss: 0.0325 - val_acc: 0.9904\n",
      "Epoch 26/50\n",
      "42000/42000 [==============================] - 15s 362us/step - loss: 0.0162 - acc: 0.9948 - val_loss: 0.0317 - val_acc: 0.9910\n",
      "Epoch 27/50\n",
      "42000/42000 [==============================] - 16s 370us/step - loss: 0.0159 - acc: 0.9946 - val_loss: 0.0269 - val_acc: 0.9923\n",
      "Epoch 28/50\n",
      "42000/42000 [==============================] - 15s 364us/step - loss: 0.0192 - acc: 0.9935 - val_loss: 0.0323 - val_acc: 0.9894\n",
      "Epoch 29/50\n",
      "42000/42000 [==============================] - 15s 363us/step - loss: 0.0153 - acc: 0.9950 - val_loss: 0.0259 - val_acc: 0.9930\n",
      "Epoch 30/50\n",
      "42000/42000 [==============================] - 15s 367us/step - loss: 0.0134 - acc: 0.9952 - val_loss: 0.0342 - val_acc: 0.9891\n",
      "Epoch 31/50\n",
      "42000/42000 [==============================] - 15s 367us/step - loss: 0.0121 - acc: 0.9961 - val_loss: 0.0260 - val_acc: 0.9926\n",
      "Epoch 32/50\n",
      "42000/42000 [==============================] - 15s 364us/step - loss: 0.0103 - acc: 0.9964 - val_loss: 0.0237 - val_acc: 0.9923\n",
      "Epoch 33/50\n",
      "42000/42000 [==============================] - 15s 365us/step - loss: 0.0129 - acc: 0.9958 - val_loss: 0.0261 - val_acc: 0.9929\n",
      "Epoch 34/50\n",
      "42000/42000 [==============================] - 15s 369us/step - loss: 0.0121 - acc: 0.9958 - val_loss: 0.0256 - val_acc: 0.9926\n",
      "Epoch 35/50\n",
      "42000/42000 [==============================] - 15s 368us/step - loss: 0.0120 - acc: 0.9960 - val_loss: 0.0301 - val_acc: 0.9910\n",
      "Epoch 36/50\n",
      "42000/42000 [==============================] - 15s 359us/step - loss: 0.0112 - acc: 0.9961 - val_loss: 0.0289 - val_acc: 0.9918\n",
      "Epoch 37/50\n",
      "42000/42000 [==============================] - 15s 367us/step - loss: 0.0114 - acc: 0.9959 - val_loss: 0.0366 - val_acc: 0.9894\n",
      "Epoch 38/50\n",
      "42000/42000 [==============================] - 15s 368us/step - loss: 0.0109 - acc: 0.9964 - val_loss: 0.0339 - val_acc: 0.9904\n",
      "Epoch 39/50\n",
      "42000/42000 [==============================] - 15s 365us/step - loss: 0.0113 - acc: 0.9962 - val_loss: 0.0290 - val_acc: 0.9914\n",
      "Epoch 40/50\n",
      "42000/42000 [==============================] - 15s 362us/step - loss: 0.0119 - acc: 0.9958 - val_loss: 0.0248 - val_acc: 0.9928\n",
      "Epoch 41/50\n",
      "42000/42000 [==============================] - 15s 366us/step - loss: 0.0111 - acc: 0.9961 - val_loss: 0.0269 - val_acc: 0.9921\n",
      "Epoch 42/50\n",
      "42000/42000 [==============================] - 16s 370us/step - loss: 0.0117 - acc: 0.9960 - val_loss: 0.0255 - val_acc: 0.9925\n",
      "Epoch 43/50\n",
      "42000/42000 [==============================] - 15s 359us/step - loss: 0.0126 - acc: 0.9957 - val_loss: 0.0355 - val_acc: 0.9899\n",
      "Epoch 44/50\n",
      "42000/42000 [==============================] - 16s 370us/step - loss: 0.0118 - acc: 0.9959 - val_loss: 0.0427 - val_acc: 0.9877\n",
      "Epoch 45/50\n",
      "42000/42000 [==============================] - 15s 367us/step - loss: 0.0252 - acc: 0.9918 - val_loss: 0.0310 - val_acc: 0.9909\n",
      "Epoch 46/50\n",
      "42000/42000 [==============================] - 15s 367us/step - loss: 0.0120 - acc: 0.9957 - val_loss: 0.0305 - val_acc: 0.9912\n",
      "Epoch 47/50\n",
      "42000/42000 [==============================] - 15s 369us/step - loss: 0.0094 - acc: 0.9968 - val_loss: 0.0284 - val_acc: 0.9921\n",
      "Epoch 48/50\n",
      "42000/42000 [==============================] - 15s 363us/step - loss: 0.0113 - acc: 0.9961 - val_loss: 0.0271 - val_acc: 0.9924\n",
      "Epoch 49/50\n",
      "42000/42000 [==============================] - 15s 364us/step - loss: 0.0099 - acc: 0.9966 - val_loss: 0.0246 - val_acc: 0.9927\n",
      "Epoch 50/50\n",
      "42000/42000 [==============================] - 15s 361us/step - loss: 0.0099 - acc: 0.9966 - val_loss: 0.0264 - val_acc: 0.9926\n"
     ]
    }
   ],
   "source": [
    "history = cnn_fmodel.fit(trnx_reshape, trny, validation_data = [tstx_reshape, tsty], batch_size=512, epochs=50)"
   ]
  },
  {
   "cell_type": "code",
   "execution_count": 15,
   "metadata": {},
   "outputs": [
    {
     "data": {
      "image/png": "[encoded data removed]",
      "text/plain": [
       "<Figure size 432x288 with 1 Axes>"
      ]
     },
     "metadata": {
      "needs_background": "light"
     },
     "output_type": "display_data"
    },
    {
     "data": {
      "image/png": "[encoded data removed]",
      "text/plain": [
       "<Figure size 432x288 with 1 Axes>"
      ]
     },
     "metadata": {
      "needs_background": "light"
     },
     "output_type": "display_data"
    }
   ],
   "source": [
    "plt.plot(history.history['acc'])\n",
    "plt.plot(history.history['val_acc'])\n",
    "plt.title('model accuracy')\n",
    "plt.ylabel('accuracy')\n",
    "plt.xlabel('epoch')\n",
    "plt.legend(['train', 'test'], loc='upper left')\n",
    "plt.show()\n",
    "# summarize history for loss\n",
    "plt.plot(history.history['loss'])\n",
    "plt.plot(history.history['val_loss'])\n",
    "plt.title('model loss')\n",
    "plt.ylabel('loss')\n",
    "plt.xlabel('epoch')\n",
    "plt.legend(['train', 'test'], loc='upper left')\n",
    "plt.show()"
   ]
  },
  {
   "cell_type": "code",
   "execution_count": null,
   "metadata": {},
   "outputs": [],
   "source": []
  },
  {
   "cell_type": "code",
   "execution_count": null,
   "metadata": {},
   "outputs": [],
   "source": []
  }
 ],
 "metadata": {
  "kernelspec": {
   "display_name": "Python 3",
   "language": "python",
   "name": "python3"
  },
  "language_info": {
   "codemirror_mode": {
    "name": "ipython",
    "version": 3
   },
   "file_extension": ".py",
   "mimetype": "text/x-python",
   "name": "python",
   "nbconvert_exporter": "python",
   "pygments_lexer": "ipython3",
   "version": "3.6.8"
  }
 },
 "nbformat": 4,
 "nbformat_minor": 2
}
