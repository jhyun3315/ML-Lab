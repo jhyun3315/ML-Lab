{
 "cells": [
  {
   "cell_type": "markdown",
   "metadata": {},
   "source": [
    "# AI_HW01. Bayesian Classfier\n",
    "## 201604148 이지현"
   ]
  },
  {
   "cell_type": "code",
   "execution_count": 1,
   "metadata": {},
   "outputs": [],
   "source": [
    "import numpy as np\n",
    "import pandas as pd\n",
    "import matplotlib.pyplot as plt\n",
    "%matplotlib inline\n",
    "import warnings\n",
    "warnings.filterwarnings(\"ignore\")"
   ]
  },
  {
   "cell_type": "code",
   "execution_count": 2,
   "metadata": {},
   "outputs": [],
   "source": [
    "mean1 = [0,1]\n",
    "cov1 = [[1,0],[0,1]]\n",
    "\n",
    "mean2 = [1,-1]\n",
    "cov2 = [[-1,0],[0,1]]"
   ]
  },
  {
   "cell_type": "code",
   "execution_count": 3,
   "metadata": {},
   "outputs": [],
   "source": [
    "x1 = np.random.multivariate_normal(mean1, cov1, 500)\n",
    "x2 = np.random.multivariate_normal(mean2, cov2, 500)"
   ]
  },
  {
   "cell_type": "code",
   "execution_count": 4,
   "metadata": {},
   "outputs": [],
   "source": [
    "y1 = np.ones(500)\n",
    "y2 = -1*np.ones(500)"
   ]
  },
  {
   "cell_type": "code",
   "execution_count": 5,
   "metadata": {},
   "outputs": [
    {
     "name": "stdout",
     "output_type": "stream",
     "text": [
      "(500, 2)\n",
      "(500, 2)\n",
      "(500,)\n",
      "(500,)\n"
     ]
    }
   ],
   "source": [
    "print(x1.shape)\n",
    "print(x2.shape)\n",
    "print(y1.shape)\n",
    "print(y2.shape)"
   ]
  },
  {
   "cell_type": "markdown",
   "metadata": {},
   "source": [
    "**각각 만들어진 두 class의 데이터를 합침**"
   ]
  },
  {
   "cell_type": "code",
   "execution_count": 6,
   "metadata": {},
   "outputs": [],
   "source": [
    "datax = np.concatenate((x1,x2), axis=0)\n",
    "datay = np.concatenate((y1,y2), axis=0)"
   ]
  },
  {
   "cell_type": "code",
   "execution_count": 7,
   "metadata": {},
   "outputs": [
    {
     "name": "stdout",
     "output_type": "stream",
     "text": [
      "(1000, 2)\n",
      "(1000,)\n"
     ]
    }
   ],
   "source": [
    "print(datax.shape)\n",
    "print(datay.shape)"
   ]
  },
  {
   "cell_type": "markdown",
   "metadata": {},
   "source": [
    "**그림으로 잘 만들어졌는지 확인**"
   ]
  },
  {
   "cell_type": "code",
   "execution_count": 8,
   "metadata": {
    "scrolled": true
   },
   "outputs": [
    {
     "data": {
      "text/plain": [
       "<matplotlib.collections.PathCollection at 0x7f7f8b94f6a0>"
      ]
     },
     "execution_count": 8,
     "metadata": {},
     "output_type": "execute_result"
    },
    {
     "data": {
      "image/png": "[encoded data removed]",
      "text/plain": [
       "<Figure size 432x288 with 1 Axes>"
      ]
     },
     "metadata": {
      "needs_background": "light"
     },
     "output_type": "display_data"
    }
   ],
   "source": [
    "plt.scatter(datax[:,0], datax[:,1])\n",
    "plt.scatter(x1[:,0], x1[:,1], c=\"red\")"
   ]
  },
  {
   "cell_type": "markdown",
   "metadata": {},
   "source": [
    "## Requirement 1. Data를 train:test로 분할한다."
   ]
  },
  {
   "cell_type": "code",
   "execution_count": 9,
   "metadata": {},
   "outputs": [
    {
     "name": "stdout",
     "output_type": "stream",
     "text": [
      "X_train size: (700, 2)\n",
      "y_train size: (700,)\n",
      "X_test size: (300, 2)\n",
      "y_test size: (300,)\n"
     ]
    }
   ],
   "source": [
    "from sklearn.model_selection import train_test_split\n",
    "\n",
    "X_train, X_test, y_train, y_test = train_test_split(datax, datay, test_size=0.3, random_state=0)\n",
    "\n",
    "print(\"X_train size: {}\".format(X_train.shape))\n",
    "print(\"y_train size: {}\".format(y_train.shape))\n",
    "print(\"X_test size: {}\".format(X_test.shape))\n",
    "print(\"y_test size: {}\".format(y_test.shape))"
   ]
  },
  {
   "cell_type": "markdown",
   "metadata": {},
   "source": [
    "## Requirement 2. Sklearn의 GaussinNB 함수를 이용해서 Classifier A를 만든다."
   ]
  },
  {
   "cell_type": "code",
   "execution_count": 10,
   "metadata": {},
   "outputs": [
    {
     "name": "stdout",
     "output_type": "stream",
     "text": [
      "[-1. -1.  1.  1. -1. -1.  1.  1.  1. -1.  1. -1. -1.  1. -1.  1. -1.  1.\n",
      " -1.  1. -1.  1.  1. -1. -1.  1.  1.  1. -1.  1. -1. -1. -1.  1.  1. -1.\n",
      "  1.  1. -1.  1.  1. -1. -1.  1.  1. -1. -1. -1.  1. -1.  1.  1.  1.  1.\n",
      " -1. -1.  1.  1. -1.  1. -1. -1.  1.  1.  1.  1.  1. -1.  1. -1. -1.  1.\n",
      " -1.  1. -1.  1.  1. -1. -1. -1. -1.  1.  1. -1. -1. -1.  1. -1.  1. -1.\n",
      "  1.  1. -1.  1. -1.  1. -1.  1.  1. -1. -1. -1.  1. -1.  1. -1. -1. -1.\n",
      " -1.  1.  1. -1.  1. -1.  1.  1. -1.  1.  1. -1.  1. -1.  1. -1.  1. -1.\n",
      "  1.  1. -1. -1.  1. -1. -1.  1. -1. -1.  1.  1. -1.  1.  1. -1. -1.  1.\n",
      "  1. -1. -1.  1.  1.  1. -1.  1.  1.  1. -1. -1.  1.  1. -1.  1. -1. -1.\n",
      " -1. -1. -1.  1.  1. -1.  1.  1. -1. -1.  1. -1.  1. -1.  1. -1. -1. -1.\n",
      " -1. -1.  1.  1. -1. -1. -1.  1. -1.  1. -1. -1.  1.  1. -1. -1. -1.  1.\n",
      "  1.  1. -1. -1.  1.  1.  1. -1.  1. -1. -1. -1. -1. -1.  1. -1.  1. -1.\n",
      " -1.  1.  1. -1. -1. -1. -1.  1.  1.  1. -1. -1.  1.  1. -1.  1. -1. -1.\n",
      "  1. -1. -1.  1. -1.  1. -1.  1.  1.  1. -1.  1.  1.  1.  1. -1.  1. -1.\n",
      "  1. -1.  1. -1. -1.  1. -1.  1. -1. -1.  1.  1. -1. -1. -1.  1.  1.  1.\n",
      " -1. -1.  1.  1. -1. -1. -1. -1.  1.  1.  1.  1.  1. -1. -1.  1. -1. -1.\n",
      "  1.  1.  1.  1.  1. -1. -1.  1.  1.  1.  1.  1.]\n"
     ]
    }
   ],
   "source": [
    "from sklearn.naive_bayes import GaussianNB\n",
    "\n",
    "clf_A = GaussianNB()\n",
    "clf_A.fit(X_train, y_train)\n",
    "tsty_hat = clf_A.predict(X_test)\n",
    "print(tsty_hat)"
   ]
  },
  {
   "cell_type": "markdown",
   "metadata": {},
   "source": [
    "## Requirement 3\n",
    "## Sklearn의 GaussinNB 함수를 이용해서 Classifier B를 만든다.\n",
    "**Prior가 추가된 NB**"
   ]
  },
  {
   "cell_type": "code",
   "execution_count": 11,
   "metadata": {},
   "outputs": [],
   "source": [
    "clf_B = GaussianNB(priors=[0.3, 0.7])\n",
    "clf_B.fit(X_train, y_train)\n",
    "tsty_hat2 = clf_B.predict(X_test)"
   ]
  },
  {
   "cell_type": "markdown",
   "metadata": {},
   "source": [
    "## Requirement 4\n",
    "## A와 B의 test data에 대한 accuracy를 계산해서 비교한다."
   ]
  },
  {
   "cell_type": "markdown",
   "metadata": {},
   "source": [
    "** A의 Accuracy **"
   ]
  },
  {
   "cell_type": "code",
   "execution_count": 12,
   "metadata": {},
   "outputs": [
    {
     "name": "stdout",
     "output_type": "stream",
     "text": [
      "0.8966666666666667\n"
     ]
    }
   ],
   "source": [
    "dif = y_test - tsty_hat\n",
    "accuracy = 1 - (np.size(np.where(dif != 0))/np.size(y_test))\n",
    "print(accuracy)"
   ]
  },
  {
   "cell_type": "markdown",
   "metadata": {},
   "source": [
    "** B의 Accuracy **"
   ]
  },
  {
   "cell_type": "code",
   "execution_count": 13,
   "metadata": {},
   "outputs": [
    {
     "name": "stdout",
     "output_type": "stream",
     "text": [
      "0.8866666666666667\n"
     ]
    }
   ],
   "source": [
    "dif = y_test - tsty_hat2\n",
    "accuracy = 1 - (np.size(np.where(dif != 0))/np.size(y_test))\n",
    "print(accuracy)"
   ]
  },
  {
   "cell_type": "markdown",
   "metadata": {},
   "source": [
    "## Reqirement 5 \n",
    "## A와 B의 test data에 대한 실제 label 및 모델의 예측 결과를 그림으로 표현한다."
   ]
  },
  {
   "cell_type": "markdown",
   "metadata": {},
   "source": [
    "** A의 예측결과 **"
   ]
  },
  {
   "cell_type": "code",
   "execution_count": 14,
   "metadata": {},
   "outputs": [
    {
     "data": {
      "text/plain": [
       "<matplotlib.collections.PathCollection at 0x7f7f3a51f588>"
      ]
     },
     "execution_count": 14,
     "metadata": {},
     "output_type": "execute_result"
    },
    {
     "data": {
      "image/png": "[encoded data removed]",
      "text/plain": [
       "<Figure size 432x288 with 1 Axes>"
      ]
     },
     "metadata": {
      "needs_background": "light"
     },
     "output_type": "display_data"
    }
   ],
   "source": [
    "plt.scatter(X_test[:,0], X_test[:,1])\n",
    "plt.scatter(X_test[np.where(y_test==1),0], X_test[np.where(y_test==1),1], c=\"red\")\n",
    "plt.scatter(X_test[np.where(tsty_hat==1),0], X_test[np.where(tsty_hat==1),1], c=\"red\", marker='x', s=50)\n",
    "plt.scatter(X_test[np.where(tsty_hat==-1),0], X_test[np.where(tsty_hat==-1),1], c=\"blue\", marker='x',s=50)"
   ]
  },
  {
   "cell_type": "markdown",
   "metadata": {},
   "source": [
    "** B의 예측결과 **"
   ]
  },
  {
   "cell_type": "code",
   "execution_count": 15,
   "metadata": {},
   "outputs": [
    {
     "data": {
      "text/plain": [
       "<matplotlib.collections.PathCollection at 0x7f7f34d03d30>"
      ]
     },
     "execution_count": 15,
     "metadata": {},
     "output_type": "execute_result"
    },
    {
     "data": {
      "image/png": "[encoded data removed]",
      "text/plain": [
       "<Figure size 432x288 with 1 Axes>"
      ]
     },
     "metadata": {
      "needs_background": "light"
     },
     "output_type": "display_data"
    }
   ],
   "source": [
    "plt.scatter(X_test[:,0], X_test[:,1])\n",
    "plt.scatter(X_test[np.where(y_test==1),0], X_test[np.where(y_test==1),1], c=\"red\")\n",
    "plt.scatter(X_test[np.where(tsty_hat2==1),0], X_test[np.where(tsty_hat2==1),1], c=\"red\", marker='x', s=50)\n",
    "plt.scatter(X_test[np.where(tsty_hat2==-1),0], X_test[np.where(tsty_hat2==-1),1], c=\"blue\", marker='x',s=50)"
   ]
  }
 ],
 "metadata": {
  "kernelspec": {
   "display_name": "Python 3",
   "language": "python",
   "name": "python3"
  },
  "language_info": {
   "codemirror_mode": {
    "name": "ipython",
    "version": 3
   },
   "file_extension": ".py",
   "mimetype": "text/x-python",
   "name": "python",
   "nbconvert_exporter": "python",
   "pygments_lexer": "ipython3",
   "version": "3.6.8"
  }
 },
 "nbformat": 4,
 "nbformat_minor": 2
}
